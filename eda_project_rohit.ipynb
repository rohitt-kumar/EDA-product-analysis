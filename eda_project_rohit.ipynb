{
  "cells": [
    {
      "cell_type": "markdown",
      "metadata": {
        "id": "view-in-github",
        "colab_type": "text"
      },
      "source": [
        "<a href=\"https://colab.research.google.com/github/rohitt-kumar/EDA-product-analysis/blob/main/eda_project_rohit.ipynb\" target=\"_parent\"><img src=\"https://colab.research.google.com/assets/colab-badge.svg\" alt=\"Open In Colab\"/></a>"
      ]
    },
    {
      "cell_type": "code",
      "execution_count": null,
      "id": "66081386",
      "metadata": {
        "id": "66081386"
      },
      "outputs": [],
      "source": [
        "import pandas as pd # for data analysis\n",
        "import numpy as np # for numirical computation\n",
        "import matplotlib.pyplot as plt # for visulation\n",
        "import seaborn as sns # for visulation"
      ]
    },
    {
      "cell_type": "markdown",
      "id": "d2991d6c",
      "metadata": {
        "id": "d2991d6c"
      },
      "source": [
        "# 1- Load the dataset into pandas and provide a summary of columns in the loaded dataset without any modification.\n"
      ]
    },
    {
      "cell_type": "code",
      "execution_count": null,
      "id": "8a3c121e",
      "metadata": {
        "id": "8a3c121e",
        "outputId": "c0494f61-04e0-4892-e4a9-2e9edd81b86b"
      },
      "outputs": [
        {
          "data": {
            "text/html": [
              "<div>\n",
              "<style scoped>\n",
              "    .dataframe tbody tr th:only-of-type {\n",
              "        vertical-align: middle;\n",
              "    }\n",
              "\n",
              "    .dataframe tbody tr th {\n",
              "        vertical-align: top;\n",
              "    }\n",
              "\n",
              "    .dataframe thead th {\n",
              "        text-align: right;\n",
              "    }\n",
              "</style>\n",
              "<table border=\"1\" class=\"dataframe\">\n",
              "  <thead>\n",
              "    <tr style=\"text-align: right;\">\n",
              "      <th></th>\n",
              "      <th>Order ID</th>\n",
              "      <th>Product</th>\n",
              "      <th>Quantity Ordered</th>\n",
              "      <th>Price Each</th>\n",
              "      <th>Order Date</th>\n",
              "      <th>Purchase Address</th>\n",
              "    </tr>\n",
              "  </thead>\n",
              "  <tbody>\n",
              "    <tr>\n",
              "      <th>0</th>\n",
              "      <td>141234</td>\n",
              "      <td>iPhone</td>\n",
              "      <td>1</td>\n",
              "      <td>700</td>\n",
              "      <td>01/22/19 21:25</td>\n",
              "      <td>944 Walnut St, Boston, MA 02215</td>\n",
              "    </tr>\n",
              "    <tr>\n",
              "      <th>1</th>\n",
              "      <td>141235</td>\n",
              "      <td>Lightning Charging Cable</td>\n",
              "      <td>1</td>\n",
              "      <td>14.95</td>\n",
              "      <td>01/28/19 14:15</td>\n",
              "      <td>185 Maple St, Portland, OR 97035</td>\n",
              "    </tr>\n",
              "    <tr>\n",
              "      <th>2</th>\n",
              "      <td>141236</td>\n",
              "      <td>Wired Headphones</td>\n",
              "      <td>2</td>\n",
              "      <td>11.99</td>\n",
              "      <td>01/17/19 13:33</td>\n",
              "      <td>538 Adams St, San Francisco, CA 94016</td>\n",
              "    </tr>\n",
              "    <tr>\n",
              "      <th>3</th>\n",
              "      <td>141237</td>\n",
              "      <td>27in FHD Monitor</td>\n",
              "      <td>1</td>\n",
              "      <td>149.99</td>\n",
              "      <td>01/05/19 20:33</td>\n",
              "      <td>738 10th St, Los Angeles, CA 90001</td>\n",
              "    </tr>\n",
              "    <tr>\n",
              "      <th>4</th>\n",
              "      <td>141238</td>\n",
              "      <td>Wired Headphones</td>\n",
              "      <td>1</td>\n",
              "      <td>11.99</td>\n",
              "      <td>01/25/19 11:59</td>\n",
              "      <td>387 10th St, Austin, TX 73301</td>\n",
              "    </tr>\n",
              "    <tr>\n",
              "      <th>...</th>\n",
              "      <td>...</td>\n",
              "      <td>...</td>\n",
              "      <td>...</td>\n",
              "      <td>...</td>\n",
              "      <td>...</td>\n",
              "      <td>...</td>\n",
              "    </tr>\n",
              "    <tr>\n",
              "      <th>373695</th>\n",
              "      <td>259353</td>\n",
              "      <td>AAA Batteries (4-pack)</td>\n",
              "      <td>3</td>\n",
              "      <td>2.99</td>\n",
              "      <td>09/17/19 20:56</td>\n",
              "      <td>840 Highland St, Los Angeles, CA 90001</td>\n",
              "    </tr>\n",
              "    <tr>\n",
              "      <th>373696</th>\n",
              "      <td>259354</td>\n",
              "      <td>iPhone</td>\n",
              "      <td>1</td>\n",
              "      <td>700</td>\n",
              "      <td>09/01/19 16:00</td>\n",
              "      <td>216 Dogwood St, San Francisco, CA 94016</td>\n",
              "    </tr>\n",
              "    <tr>\n",
              "      <th>373697</th>\n",
              "      <td>259355</td>\n",
              "      <td>iPhone</td>\n",
              "      <td>1</td>\n",
              "      <td>700</td>\n",
              "      <td>09/23/19 07:39</td>\n",
              "      <td>220 12th St, San Francisco, CA 94016</td>\n",
              "    </tr>\n",
              "    <tr>\n",
              "      <th>373698</th>\n",
              "      <td>259356</td>\n",
              "      <td>34in Ultrawide Monitor</td>\n",
              "      <td>1</td>\n",
              "      <td>379.99</td>\n",
              "      <td>09/19/19 17:30</td>\n",
              "      <td>511 Forest St, San Francisco, CA 94016</td>\n",
              "    </tr>\n",
              "    <tr>\n",
              "      <th>373699</th>\n",
              "      <td>259357</td>\n",
              "      <td>USB-C Charging Cable</td>\n",
              "      <td>1</td>\n",
              "      <td>11.95</td>\n",
              "      <td>09/30/19 00:18</td>\n",
              "      <td>250 Meadow St, San Francisco, CA 94016</td>\n",
              "    </tr>\n",
              "  </tbody>\n",
              "</table>\n",
              "<p>373700 rows × 6 columns</p>\n",
              "</div>"
            ],
            "text/plain": [
              "       Order ID                   Product Quantity Ordered Price Each  \\\n",
              "0        141234                    iPhone                1        700   \n",
              "1        141235  Lightning Charging Cable                1      14.95   \n",
              "2        141236          Wired Headphones                2      11.99   \n",
              "3        141237          27in FHD Monitor                1     149.99   \n",
              "4        141238          Wired Headphones                1      11.99   \n",
              "...         ...                       ...              ...        ...   \n",
              "373695   259353    AAA Batteries (4-pack)                3       2.99   \n",
              "373696   259354                    iPhone                1        700   \n",
              "373697   259355                    iPhone                1        700   \n",
              "373698   259356    34in Ultrawide Monitor                1     379.99   \n",
              "373699   259357      USB-C Charging Cable                1      11.95   \n",
              "\n",
              "            Order Date                         Purchase Address  \n",
              "0       01/22/19 21:25          944 Walnut St, Boston, MA 02215  \n",
              "1       01/28/19 14:15         185 Maple St, Portland, OR 97035  \n",
              "2       01/17/19 13:33    538 Adams St, San Francisco, CA 94016  \n",
              "3       01/05/19 20:33       738 10th St, Los Angeles, CA 90001  \n",
              "4       01/25/19 11:59            387 10th St, Austin, TX 73301  \n",
              "...                ...                                      ...  \n",
              "373695  09/17/19 20:56   840 Highland St, Los Angeles, CA 90001  \n",
              "373696  09/01/19 16:00  216 Dogwood St, San Francisco, CA 94016  \n",
              "373697  09/23/19 07:39     220 12th St, San Francisco, CA 94016  \n",
              "373698  09/19/19 17:30   511 Forest St, San Francisco, CA 94016  \n",
              "373699  09/30/19 00:18   250 Meadow St, San Francisco, CA 94016  \n",
              "\n",
              "[373700 rows x 6 columns]"
            ]
          },
          "execution_count": 4,
          "metadata": {},
          "output_type": "execute_result"
        }
      ],
      "source": [
        "#load data set\n",
        "df = pd.read_csv(r'C:\\Users\\HP\\Downloads\\all_data_copy.csv')\n",
        "df\n"
      ]
    },
    {
      "cell_type": "markdown",
      "id": "62446c59",
      "metadata": {
        "id": "62446c59"
      },
      "source": [
        "\n",
        "* move data into analysis and cleaning"
      ]
    },
    {
      "cell_type": "code",
      "execution_count": null,
      "id": "f0cd13a0",
      "metadata": {
        "id": "f0cd13a0",
        "outputId": "38f74084-4586-42b5-b171-b0fff103b254"
      },
      "outputs": [
        {
          "data": {
            "text/html": [
              "<div>\n",
              "<style scoped>\n",
              "    .dataframe tbody tr th:only-of-type {\n",
              "        vertical-align: middle;\n",
              "    }\n",
              "\n",
              "    .dataframe tbody tr th {\n",
              "        vertical-align: top;\n",
              "    }\n",
              "\n",
              "    .dataframe thead th {\n",
              "        text-align: right;\n",
              "    }\n",
              "</style>\n",
              "<table border=\"1\" class=\"dataframe\">\n",
              "  <thead>\n",
              "    <tr style=\"text-align: right;\">\n",
              "      <th></th>\n",
              "      <th>Order ID</th>\n",
              "      <th>Product</th>\n",
              "      <th>Quantity Ordered</th>\n",
              "      <th>Price Each</th>\n",
              "      <th>Order Date</th>\n",
              "      <th>Purchase Address</th>\n",
              "    </tr>\n",
              "  </thead>\n",
              "  <tbody>\n",
              "    <tr>\n",
              "      <th>count</th>\n",
              "      <td>372610</td>\n",
              "      <td>372610</td>\n",
              "      <td>372610</td>\n",
              "      <td>372610</td>\n",
              "      <td>372610</td>\n",
              "      <td>372610</td>\n",
              "    </tr>\n",
              "    <tr>\n",
              "      <th>unique</th>\n",
              "      <td>178438</td>\n",
              "      <td>20</td>\n",
              "      <td>10</td>\n",
              "      <td>24</td>\n",
              "      <td>142396</td>\n",
              "      <td>140788</td>\n",
              "    </tr>\n",
              "    <tr>\n",
              "      <th>top</th>\n",
              "      <td>Order ID</td>\n",
              "      <td>USB-C Charging Cable</td>\n",
              "      <td>1</td>\n",
              "      <td>11.95</td>\n",
              "      <td>Order Date</td>\n",
              "      <td>Purchase Address</td>\n",
              "    </tr>\n",
              "    <tr>\n",
              "      <th>freq</th>\n",
              "      <td>710</td>\n",
              "      <td>43806</td>\n",
              "      <td>337104</td>\n",
              "      <td>43806</td>\n",
              "      <td>710</td>\n",
              "      <td>710</td>\n",
              "    </tr>\n",
              "  </tbody>\n",
              "</table>\n",
              "</div>"
            ],
            "text/plain": [
              "        Order ID               Product Quantity Ordered Price Each  \\\n",
              "count     372610                372610           372610     372610   \n",
              "unique    178438                    20               10         24   \n",
              "top     Order ID  USB-C Charging Cable                1      11.95   \n",
              "freq         710                 43806           337104      43806   \n",
              "\n",
              "        Order Date  Purchase Address  \n",
              "count       372610            372610  \n",
              "unique      142396            140788  \n",
              "top     Order Date  Purchase Address  \n",
              "freq           710               710  "
            ]
          },
          "execution_count": 5,
          "metadata": {},
          "output_type": "execute_result"
        }
      ],
      "source": [
        "# destribution of data\n",
        "df.describe()"
      ]
    },
    {
      "cell_type": "code",
      "execution_count": null,
      "id": "1e83df58",
      "metadata": {
        "id": "1e83df58",
        "outputId": "19e4bcbd-1237-439c-9073-66b8d002a4e6"
      },
      "outputs": [
        {
          "name": "stdout",
          "output_type": "stream",
          "text": [
            "<class 'pandas.core.frame.DataFrame'>\n",
            "RangeIndex: 373700 entries, 0 to 373699\n",
            "Data columns (total 6 columns):\n",
            " #   Column            Non-Null Count   Dtype \n",
            "---  ------            --------------   ----- \n",
            " 0   Order ID          372610 non-null  object\n",
            " 1   Product           372610 non-null  object\n",
            " 2   Quantity Ordered  372610 non-null  object\n",
            " 3   Price Each        372610 non-null  object\n",
            " 4   Order Date        372610 non-null  object\n",
            " 5   Purchase Address  372610 non-null  object\n",
            "dtypes: object(6)\n",
            "memory usage: 17.1+ MB\n"
          ]
        }
      ],
      "source": [
        "#having look of dataset\n",
        "df.info()"
      ]
    },
    {
      "cell_type": "code",
      "execution_count": null,
      "id": "5454f942",
      "metadata": {
        "id": "5454f942",
        "outputId": "f54d941e-fcc7-4f85-cc3b-0613a1ebbefb"
      },
      "outputs": [
        {
          "data": {
            "text/plain": [
              "(373700, 6)"
            ]
          },
          "execution_count": 7,
          "metadata": {},
          "output_type": "execute_result"
        }
      ],
      "source": [
        "#having a look of shape in dataset\n",
        "df.shape"
      ]
    },
    {
      "cell_type": "code",
      "execution_count": null,
      "id": "e21b6e67",
      "metadata": {
        "id": "e21b6e67",
        "outputId": "a768a6bc-5b64-4efe-9d74-3ece63f0593b"
      },
      "outputs": [
        {
          "data": {
            "text/html": [
              "<div>\n",
              "<style scoped>\n",
              "    .dataframe tbody tr th:only-of-type {\n",
              "        vertical-align: middle;\n",
              "    }\n",
              "\n",
              "    .dataframe tbody tr th {\n",
              "        vertical-align: top;\n",
              "    }\n",
              "\n",
              "    .dataframe thead th {\n",
              "        text-align: right;\n",
              "    }\n",
              "</style>\n",
              "<table border=\"1\" class=\"dataframe\">\n",
              "  <thead>\n",
              "    <tr style=\"text-align: right;\">\n",
              "      <th></th>\n",
              "      <th>Order ID</th>\n",
              "      <th>Product</th>\n",
              "      <th>Quantity Ordered</th>\n",
              "      <th>Price Each</th>\n",
              "      <th>Order Date</th>\n",
              "      <th>Purchase Address</th>\n",
              "    </tr>\n",
              "  </thead>\n",
              "  <tbody>\n",
              "    <tr>\n",
              "      <th>0</th>\n",
              "      <td>141234</td>\n",
              "      <td>iPhone</td>\n",
              "      <td>1</td>\n",
              "      <td>700</td>\n",
              "      <td>01/22/19 21:25</td>\n",
              "      <td>944 Walnut St, Boston, MA 02215</td>\n",
              "    </tr>\n",
              "    <tr>\n",
              "      <th>1</th>\n",
              "      <td>141235</td>\n",
              "      <td>Lightning Charging Cable</td>\n",
              "      <td>1</td>\n",
              "      <td>14.95</td>\n",
              "      <td>01/28/19 14:15</td>\n",
              "      <td>185 Maple St, Portland, OR 97035</td>\n",
              "    </tr>\n",
              "    <tr>\n",
              "      <th>2</th>\n",
              "      <td>141236</td>\n",
              "      <td>Wired Headphones</td>\n",
              "      <td>2</td>\n",
              "      <td>11.99</td>\n",
              "      <td>01/17/19 13:33</td>\n",
              "      <td>538 Adams St, San Francisco, CA 94016</td>\n",
              "    </tr>\n",
              "    <tr>\n",
              "      <th>3</th>\n",
              "      <td>141237</td>\n",
              "      <td>27in FHD Monitor</td>\n",
              "      <td>1</td>\n",
              "      <td>149.99</td>\n",
              "      <td>01/05/19 20:33</td>\n",
              "      <td>738 10th St, Los Angeles, CA 90001</td>\n",
              "    </tr>\n",
              "    <tr>\n",
              "      <th>4</th>\n",
              "      <td>141238</td>\n",
              "      <td>Wired Headphones</td>\n",
              "      <td>1</td>\n",
              "      <td>11.99</td>\n",
              "      <td>01/25/19 11:59</td>\n",
              "      <td>387 10th St, Austin, TX 73301</td>\n",
              "    </tr>\n",
              "    <tr>\n",
              "      <th>5</th>\n",
              "      <td>141239</td>\n",
              "      <td>AAA Batteries (4-pack)</td>\n",
              "      <td>1</td>\n",
              "      <td>2.99</td>\n",
              "      <td>01/29/19 20:22</td>\n",
              "      <td>775 Willow St, San Francisco, CA 94016</td>\n",
              "    </tr>\n",
              "    <tr>\n",
              "      <th>6</th>\n",
              "      <td>141240</td>\n",
              "      <td>27in 4K Gaming Monitor</td>\n",
              "      <td>1</td>\n",
              "      <td>389.99</td>\n",
              "      <td>01/26/19 12:16</td>\n",
              "      <td>979 Park St, Los Angeles, CA 90001</td>\n",
              "    </tr>\n",
              "    <tr>\n",
              "      <th>7</th>\n",
              "      <td>141241</td>\n",
              "      <td>USB-C Charging Cable</td>\n",
              "      <td>1</td>\n",
              "      <td>11.95</td>\n",
              "      <td>01/05/19 12:04</td>\n",
              "      <td>181 6th St, San Francisco, CA 94016</td>\n",
              "    </tr>\n",
              "    <tr>\n",
              "      <th>8</th>\n",
              "      <td>141242</td>\n",
              "      <td>Bose SoundSport Headphones</td>\n",
              "      <td>1</td>\n",
              "      <td>99.99</td>\n",
              "      <td>01/01/19 10:30</td>\n",
              "      <td>867 Willow St, Los Angeles, CA 90001</td>\n",
              "    </tr>\n",
              "    <tr>\n",
              "      <th>9</th>\n",
              "      <td>141243</td>\n",
              "      <td>Apple Airpods Headphones</td>\n",
              "      <td>1</td>\n",
              "      <td>150</td>\n",
              "      <td>01/22/19 21:20</td>\n",
              "      <td>657 Johnson St, San Francisco, CA 94016</td>\n",
              "    </tr>\n",
              "  </tbody>\n",
              "</table>\n",
              "</div>"
            ],
            "text/plain": [
              "  Order ID                     Product Quantity Ordered Price Each  \\\n",
              "0   141234                      iPhone                1        700   \n",
              "1   141235    Lightning Charging Cable                1      14.95   \n",
              "2   141236            Wired Headphones                2      11.99   \n",
              "3   141237            27in FHD Monitor                1     149.99   \n",
              "4   141238            Wired Headphones                1      11.99   \n",
              "5   141239      AAA Batteries (4-pack)                1       2.99   \n",
              "6   141240      27in 4K Gaming Monitor                1     389.99   \n",
              "7   141241        USB-C Charging Cable                1      11.95   \n",
              "8   141242  Bose SoundSport Headphones                1      99.99   \n",
              "9   141243    Apple Airpods Headphones                1        150   \n",
              "\n",
              "       Order Date                         Purchase Address  \n",
              "0  01/22/19 21:25          944 Walnut St, Boston, MA 02215  \n",
              "1  01/28/19 14:15         185 Maple St, Portland, OR 97035  \n",
              "2  01/17/19 13:33    538 Adams St, San Francisco, CA 94016  \n",
              "3  01/05/19 20:33       738 10th St, Los Angeles, CA 90001  \n",
              "4  01/25/19 11:59            387 10th St, Austin, TX 73301  \n",
              "5  01/29/19 20:22   775 Willow St, San Francisco, CA 94016  \n",
              "6  01/26/19 12:16       979 Park St, Los Angeles, CA 90001  \n",
              "7  01/05/19 12:04      181 6th St, San Francisco, CA 94016  \n",
              "8  01/01/19 10:30     867 Willow St, Los Angeles, CA 90001  \n",
              "9  01/22/19 21:20  657 Johnson St, San Francisco, CA 94016  "
            ]
          },
          "execution_count": 8,
          "metadata": {},
          "output_type": "execute_result"
        }
      ],
      "source": [
        "#first 10 rows of dataset\n",
        "df.head(10)"
      ]
    },
    {
      "cell_type": "markdown",
      "id": "46351fb2",
      "metadata": {
        "id": "46351fb2"
      },
      "source": [
        "* with the help of describe info head and shape function we find out their type shape first 10 rows and their information"
      ]
    },
    {
      "cell_type": "code",
      "execution_count": null,
      "id": "120cd1db",
      "metadata": {
        "id": "120cd1db",
        "outputId": "5da3a514-2192-4906-c3ce-ae5809054c34"
      },
      "outputs": [
        {
          "data": {
            "text/plain": [
              "Index(['Order ID', 'Product', 'Quantity Ordered', 'Price Each', 'Order Date',\n",
              "       'Purchase Address'],\n",
              "      dtype='object')"
            ]
          },
          "execution_count": 9,
          "metadata": {},
          "output_type": "execute_result"
        }
      ],
      "source": [
        "# the column names to lower_case\n",
        "df.columns"
      ]
    },
    {
      "cell_type": "code",
      "execution_count": null,
      "id": "dde2095e",
      "metadata": {
        "id": "dde2095e",
        "outputId": "5d4b127a-d062-465a-c6d3-47939b263008"
      },
      "outputs": [
        {
          "data": {
            "text/plain": [
              "Order ID            1090\n",
              "Product             1090\n",
              "Quantity Ordered    1090\n",
              "Price Each          1090\n",
              "Order Date          1090\n",
              "Purchase Address    1090\n",
              "dtype: int64"
            ]
          },
          "execution_count": 10,
          "metadata": {},
          "output_type": "execute_result"
        }
      ],
      "source": [
        "# Finding Missing Values\n",
        "df.isnull().sum()"
      ]
    },
    {
      "cell_type": "code",
      "execution_count": null,
      "id": "e64bb4ee",
      "metadata": {
        "id": "e64bb4ee",
        "outputId": "81893500-0d91-4a0f-bec5-e0abe286c9f8"
      },
      "outputs": [
        {
          "data": {
            "text/plain": [
              "True     188012\n",
              "False    185688\n",
              "dtype: int64"
            ]
          },
          "execution_count": 11,
          "metadata": {},
          "output_type": "execute_result"
        }
      ],
      "source": [
        "df.duplicated().value_counts()"
      ]
    },
    {
      "cell_type": "markdown",
      "id": "df0962e6",
      "metadata": {
        "id": "df0962e6"
      },
      "source": [
        "# 2&3:- Prepare the data frame for further analysis. Clean and Provide a summary of the  cleaned dataset "
      ]
    },
    {
      "cell_type": "code",
      "execution_count": null,
      "id": "e78276ac",
      "metadata": {
        "id": "e78276ac"
      },
      "outputs": [],
      "source": [
        "# converting date into datetime format\n",
        "df['Order Date'] = pd.to_datetime(df[\"Order Date\"],errors='coerce')"
      ]
    },
    {
      "cell_type": "code",
      "execution_count": null,
      "id": "13748c86",
      "metadata": {
        "id": "13748c86",
        "outputId": "0bf71975-3535-4561-f72a-bf43f0e32529"
      },
      "outputs": [
        {
          "name": "stdout",
          "output_type": "stream",
          "text": [
            "<class 'pandas.core.frame.DataFrame'>\n",
            "RangeIndex: 373700 entries, 0 to 373699\n",
            "Data columns (total 6 columns):\n",
            " #   Column            Non-Null Count   Dtype         \n",
            "---  ------            --------------   -----         \n",
            " 0   Order ID          372610 non-null  object        \n",
            " 1   Product           372610 non-null  object        \n",
            " 2   Quantity Ordered  372610 non-null  object        \n",
            " 3   Price Each        372610 non-null  object        \n",
            " 4   Order Date        371900 non-null  datetime64[ns]\n",
            " 5   Purchase Address  372610 non-null  object        \n",
            "dtypes: datetime64[ns](1), object(5)\n",
            "memory usage: 17.1+ MB\n"
          ]
        }
      ],
      "source": [
        "df.info()"
      ]
    },
    {
      "cell_type": "code",
      "execution_count": null,
      "id": "428d7a9a",
      "metadata": {
        "id": "428d7a9a"
      },
      "outputs": [],
      "source": [
        "df['Day'] = df['Order Date'].dt.day"
      ]
    },
    {
      "cell_type": "code",
      "execution_count": null,
      "id": "4c91967b",
      "metadata": {
        "id": "4c91967b"
      },
      "outputs": [],
      "source": [
        "df['month'] = df['Order Date'].dt.month"
      ]
    },
    {
      "cell_type": "code",
      "execution_count": null,
      "id": "d3cb355e",
      "metadata": {
        "id": "d3cb355e"
      },
      "outputs": [],
      "source": [
        "df['year'] = df['Order Date'].dt.year"
      ]
    },
    {
      "cell_type": "code",
      "execution_count": null,
      "id": "682c08e1",
      "metadata": {
        "id": "682c08e1"
      },
      "outputs": [],
      "source": [
        "df['hour'] = df['Order Date'].dt.hour"
      ]
    },
    {
      "cell_type": "code",
      "execution_count": null,
      "id": "50d725f1",
      "metadata": {
        "id": "50d725f1"
      },
      "outputs": [],
      "source": [
        "df['minute'] = df['Order Date'].dt.minute"
      ]
    },
    {
      "cell_type": "code",
      "execution_count": null,
      "id": "b34ddf57",
      "metadata": {
        "id": "b34ddf57"
      },
      "outputs": [],
      "source": [
        "#drop order date\n",
        "df.drop('Order Date',axis=True, inplace=True)"
      ]
    },
    {
      "cell_type": "code",
      "execution_count": null,
      "id": "33797a0e",
      "metadata": {
        "id": "33797a0e"
      },
      "outputs": [],
      "source": [
        "# converting order id into numerical datatype format\n",
        "df['Order ID'] = pd.to_numeric(df[\"Order ID\"],errors='coerce')"
      ]
    },
    {
      "cell_type": "code",
      "execution_count": null,
      "id": "972290e2",
      "metadata": {
        "id": "972290e2"
      },
      "outputs": [],
      "source": [
        "# converting quantity order into numerical datatype format\n",
        "df['Quantity Ordered'] = pd.to_numeric(df[\"Quantity Ordered\"],errors='coerce')"
      ]
    },
    {
      "cell_type": "code",
      "execution_count": null,
      "id": "a7ea4364",
      "metadata": {
        "id": "a7ea4364"
      },
      "outputs": [],
      "source": [
        "# converting price id into numerical datatype format\n",
        "df['Price Each'] = pd.to_numeric(df[\"Price Each\"],errors='coerce')"
      ]
    },
    {
      "cell_type": "code",
      "execution_count": null,
      "id": "0b81c093",
      "metadata": {
        "id": "0b81c093",
        "outputId": "3f0a5a3a-9267-452c-dc11-1a6a20fb17b3"
      },
      "outputs": [
        {
          "name": "stdout",
          "output_type": "stream",
          "text": [
            "<class 'pandas.core.frame.DataFrame'>\n",
            "RangeIndex: 373700 entries, 0 to 373699\n",
            "Data columns (total 10 columns):\n",
            " #   Column            Non-Null Count   Dtype  \n",
            "---  ------            --------------   -----  \n",
            " 0   Order ID          371900 non-null  float64\n",
            " 1   Product           372610 non-null  object \n",
            " 2   Quantity Ordered  371900 non-null  float64\n",
            " 3   Price Each        371900 non-null  float64\n",
            " 4   Purchase Address  372610 non-null  object \n",
            " 5   Day               371900 non-null  float64\n",
            " 6   month             371900 non-null  float64\n",
            " 7   year              371900 non-null  float64\n",
            " 8   hour              371900 non-null  float64\n",
            " 9   minute            371900 non-null  float64\n",
            "dtypes: float64(8), object(2)\n",
            "memory usage: 28.5+ MB\n"
          ]
        }
      ],
      "source": [
        "df.info()"
      ]
    },
    {
      "cell_type": "code",
      "execution_count": null,
      "id": "a5d98d43",
      "metadata": {
        "id": "a5d98d43",
        "outputId": "2410d3bf-5cb7-423c-89c4-49124ec464ff"
      },
      "outputs": [
        {
          "data": {
            "text/plain": [
              "USB-C Charging Cable          43806\n",
              "Lightning Charging Cable      43316\n",
              "AAA Batteries (4-pack)        41282\n",
              "AA Batteries (4-pack)         41154\n",
              "Wired Headphones              37764\n",
              "Apple Airpods Headphones      31098\n",
              "Bose SoundSport Headphones    26650\n",
              "27in FHD Monitor              15014\n",
              "iPhone                        13684\n",
              "27in 4K Gaming Monitor        12460\n",
              "34in Ultrawide Monitor        12362\n",
              "Google Phone                  11050\n",
              "Flatscreen TV                  9600\n",
              "Macbook Pro Laptop             9448\n",
              "ThinkPad Laptop                8256\n",
              "20in Monitor                   8202\n",
              "Vareebadd Phone                4130\n",
              "LG Washing Machine             1332\n",
              "LG Dryer                       1292\n",
              "Product                         710\n",
              "Name: Product, dtype: int64"
            ]
          },
          "execution_count": 24,
          "metadata": {},
          "output_type": "execute_result"
        }
      ],
      "source": [
        "#count the total no.of value\n",
        "df['Product'].value_counts()"
      ]
    },
    {
      "cell_type": "code",
      "execution_count": null,
      "id": "613ef7bf",
      "metadata": {
        "id": "613ef7bf"
      },
      "outputs": [],
      "source": [
        "#splitting city from purchase address\n",
        "df['city'] = df['Purchase Address'].str.split(',').str.get(1)"
      ]
    },
    {
      "cell_type": "code",
      "execution_count": null,
      "id": "358d46fd",
      "metadata": {
        "id": "358d46fd",
        "outputId": "b9fffa7e-1068-4551-8cf4-8ea5a4624d7d"
      },
      "outputs": [
        {
          "name": "stderr",
          "output_type": "stream",
          "text": [
            "C:\\Users\\HP\\anaconda3\\lib\\site-packages\\seaborn\\_decorators.py:36: FutureWarning: Pass the following variable as a keyword arg: x. From version 0.12, the only valid positional argument will be `data`, and passing other arguments without an explicit keyword will result in an error or misinterpretation.\n",
            "  warnings.warn(\n"
          ]
        },
        {
          "data": {
            "image/png": "[encoded data removed]",
            "text/plain": [
              "<Figure size 432x288 with 1 Axes>"
            ]
          },
          "metadata": {
            "needs_background": "light"
          },
          "output_type": "display_data"
        }
      ],
      "source": [
        "#box plot to check for any outliers\n",
        "sns.boxplot(df['Price Each'])\n",
        "plt.grid(True)"
      ]
    },
    {
      "cell_type": "markdown",
      "id": "a619288e",
      "metadata": {
        "id": "a619288e"
      },
      "source": [
        "summary:- in the dataset first we check all the necessary information total no. of null function to all the columns we converted ordered date into date time formate and count total different kind of product and their quantity and made a box plot to check for outliers.\n"
      ]
    },
    {
      "cell_type": "markdown",
      "id": "7aa5da2a",
      "metadata": {
        "id": "7aa5da2a"
      },
      "source": [
        "# 4:-What is the distribution of sales among different cities in different months?"
      ]
    },
    {
      "cell_type": "markdown",
      "id": "7ade73fb",
      "metadata": {
        "id": "7ade73fb"
      },
      "source": [
        "* Which city had the highest sales overall?"
      ]
    },
    {
      "cell_type": "markdown",
      "id": "99979669",
      "metadata": {
        "id": "99979669"
      },
      "source": [
        "* Which Month had the highest amount of sales overall?"
      ]
    },
    {
      "cell_type": "markdown",
      "id": "16ba984b",
      "metadata": {
        "id": "16ba984b"
      },
      "source": [
        "* Most bought products per city."
      ]
    },
    {
      "cell_type": "code",
      "execution_count": null,
      "id": "218a0486",
      "metadata": {
        "id": "218a0486",
        "outputId": "14db8c02-0ee9-413f-a58c-a7f06c30d9d1"
      },
      "outputs": [
        {
          "data": {
            "text/html": [
              "<div>\n",
              "<style scoped>\n",
              "    .dataframe tbody tr th:only-of-type {\n",
              "        vertical-align: middle;\n",
              "    }\n",
              "\n",
              "    .dataframe tbody tr th {\n",
              "        vertical-align: top;\n",
              "    }\n",
              "\n",
              "    .dataframe thead th {\n",
              "        text-align: right;\n",
              "    }\n",
              "</style>\n",
              "<table border=\"1\" class=\"dataframe\">\n",
              "  <thead>\n",
              "    <tr style=\"text-align: right;\">\n",
              "      <th></th>\n",
              "      <th>Order ID</th>\n",
              "      <th>Product</th>\n",
              "      <th>Quantity Ordered</th>\n",
              "      <th>Price Each</th>\n",
              "      <th>Purchase Address</th>\n",
              "      <th>Day</th>\n",
              "      <th>month</th>\n",
              "      <th>year</th>\n",
              "      <th>hour</th>\n",
              "      <th>minute</th>\n",
              "      <th>city</th>\n",
              "      <th>Total amount</th>\n",
              "    </tr>\n",
              "  </thead>\n",
              "  <tbody>\n",
              "    <tr>\n",
              "      <th>0</th>\n",
              "      <td>141234.0</td>\n",
              "      <td>iPhone</td>\n",
              "      <td>1.0</td>\n",
              "      <td>700.00</td>\n",
              "      <td>944 Walnut St, Boston, MA 02215</td>\n",
              "      <td>22.0</td>\n",
              "      <td>1.0</td>\n",
              "      <td>2019.0</td>\n",
              "      <td>21.0</td>\n",
              "      <td>25.0</td>\n",
              "      <td>Boston</td>\n",
              "      <td>700.00</td>\n",
              "    </tr>\n",
              "    <tr>\n",
              "      <th>1</th>\n",
              "      <td>141235.0</td>\n",
              "      <td>Lightning Charging Cable</td>\n",
              "      <td>1.0</td>\n",
              "      <td>14.95</td>\n",
              "      <td>185 Maple St, Portland, OR 97035</td>\n",
              "      <td>28.0</td>\n",
              "      <td>1.0</td>\n",
              "      <td>2019.0</td>\n",
              "      <td>14.0</td>\n",
              "      <td>15.0</td>\n",
              "      <td>Portland</td>\n",
              "      <td>14.95</td>\n",
              "    </tr>\n",
              "    <tr>\n",
              "      <th>2</th>\n",
              "      <td>141236.0</td>\n",
              "      <td>Wired Headphones</td>\n",
              "      <td>2.0</td>\n",
              "      <td>11.99</td>\n",
              "      <td>538 Adams St, San Francisco, CA 94016</td>\n",
              "      <td>17.0</td>\n",
              "      <td>1.0</td>\n",
              "      <td>2019.0</td>\n",
              "      <td>13.0</td>\n",
              "      <td>33.0</td>\n",
              "      <td>San Francisco</td>\n",
              "      <td>23.98</td>\n",
              "    </tr>\n",
              "    <tr>\n",
              "      <th>3</th>\n",
              "      <td>141237.0</td>\n",
              "      <td>27in FHD Monitor</td>\n",
              "      <td>1.0</td>\n",
              "      <td>149.99</td>\n",
              "      <td>738 10th St, Los Angeles, CA 90001</td>\n",
              "      <td>5.0</td>\n",
              "      <td>1.0</td>\n",
              "      <td>2019.0</td>\n",
              "      <td>20.0</td>\n",
              "      <td>33.0</td>\n",
              "      <td>Los Angeles</td>\n",
              "      <td>149.99</td>\n",
              "    </tr>\n",
              "    <tr>\n",
              "      <th>4</th>\n",
              "      <td>141238.0</td>\n",
              "      <td>Wired Headphones</td>\n",
              "      <td>1.0</td>\n",
              "      <td>11.99</td>\n",
              "      <td>387 10th St, Austin, TX 73301</td>\n",
              "      <td>25.0</td>\n",
              "      <td>1.0</td>\n",
              "      <td>2019.0</td>\n",
              "      <td>11.0</td>\n",
              "      <td>59.0</td>\n",
              "      <td>Austin</td>\n",
              "      <td>11.99</td>\n",
              "    </tr>\n",
              "  </tbody>\n",
              "</table>\n",
              "</div>"
            ],
            "text/plain": [
              "   Order ID                   Product  Quantity Ordered  Price Each  \\\n",
              "0  141234.0                    iPhone               1.0      700.00   \n",
              "1  141235.0  Lightning Charging Cable               1.0       14.95   \n",
              "2  141236.0          Wired Headphones               2.0       11.99   \n",
              "3  141237.0          27in FHD Monitor               1.0      149.99   \n",
              "4  141238.0          Wired Headphones               1.0       11.99   \n",
              "\n",
              "                        Purchase Address   Day  month    year  hour  minute  \\\n",
              "0        944 Walnut St, Boston, MA 02215  22.0    1.0  2019.0  21.0    25.0   \n",
              "1       185 Maple St, Portland, OR 97035  28.0    1.0  2019.0  14.0    15.0   \n",
              "2  538 Adams St, San Francisco, CA 94016  17.0    1.0  2019.0  13.0    33.0   \n",
              "3     738 10th St, Los Angeles, CA 90001   5.0    1.0  2019.0  20.0    33.0   \n",
              "4          387 10th St, Austin, TX 73301  25.0    1.0  2019.0  11.0    59.0   \n",
              "\n",
              "             city  Total amount  \n",
              "0          Boston        700.00  \n",
              "1        Portland         14.95  \n",
              "2   San Francisco         23.98  \n",
              "3     Los Angeles        149.99  \n",
              "4          Austin         11.99  "
            ]
          },
          "execution_count": 27,
          "metadata": {},
          "output_type": "execute_result"
        }
      ],
      "source": [
        "#multyplying quantity order and each price from total amount.\n",
        "df['Total amount'] = df['Quantity Ordered']*df['Price Each']\n",
        "df.head()"
      ]
    },
    {
      "cell_type": "code",
      "execution_count": null,
      "id": "12ca5750",
      "metadata": {
        "id": "12ca5750",
        "outputId": "e9284996-d36b-4658-da60-46a2a02ee326"
      },
      "outputs": [
        {
          "data": {
            "text/html": [
              "<div>\n",
              "<style scoped>\n",
              "    .dataframe tbody tr th:only-of-type {\n",
              "        vertical-align: middle;\n",
              "    }\n",
              "\n",
              "    .dataframe tbody tr th {\n",
              "        vertical-align: top;\n",
              "    }\n",
              "\n",
              "    .dataframe thead th {\n",
              "        text-align: right;\n",
              "    }\n",
              "</style>\n",
              "<table border=\"1\" class=\"dataframe\">\n",
              "  <thead>\n",
              "    <tr style=\"text-align: right;\">\n",
              "      <th>city</th>\n",
              "      <th>Atlanta</th>\n",
              "      <th>Austin</th>\n",
              "      <th>Boston</th>\n",
              "      <th>Dallas</th>\n",
              "      <th>Los Angeles</th>\n",
              "      <th>New York City</th>\n",
              "      <th>Portland</th>\n",
              "      <th>San Francisco</th>\n",
              "      <th>Seattle</th>\n",
              "    </tr>\n",
              "    <tr>\n",
              "      <th>month</th>\n",
              "      <th></th>\n",
              "      <th></th>\n",
              "      <th></th>\n",
              "      <th></th>\n",
              "      <th></th>\n",
              "      <th></th>\n",
              "      <th></th>\n",
              "      <th></th>\n",
              "      <th></th>\n",
              "    </tr>\n",
              "  </thead>\n",
              "  <tbody>\n",
              "    <tr>\n",
              "      <th>1.0</th>\n",
              "      <td>298319.08</td>\n",
              "      <td>176174.12</td>\n",
              "      <td>402176.98</td>\n",
              "      <td>286925.02</td>\n",
              "      <td>577203.80</td>\n",
              "      <td>521182.58</td>\n",
              "      <td>229971.12</td>\n",
              "      <td>871176.66</td>\n",
              "      <td>281384.10</td>\n",
              "    </tr>\n",
              "    <tr>\n",
              "      <th>2.0</th>\n",
              "      <td>352940.60</td>\n",
              "      <td>217574.80</td>\n",
              "      <td>429616.72</td>\n",
              "      <td>373335.98</td>\n",
              "      <td>684123.32</td>\n",
              "      <td>610744.52</td>\n",
              "      <td>298903.72</td>\n",
              "      <td>1094144.68</td>\n",
              "      <td>342660.50</td>\n",
              "    </tr>\n",
              "    <tr>\n",
              "      <th>3.0</th>\n",
              "      <td>463810.76</td>\n",
              "      <td>309098.54</td>\n",
              "      <td>602047.62</td>\n",
              "      <td>444753.36</td>\n",
              "      <td>859858.74</td>\n",
              "      <td>734524.40</td>\n",
              "      <td>374416.02</td>\n",
              "      <td>1387453.92</td>\n",
              "      <td>438237.40</td>\n",
              "    </tr>\n",
              "    <tr>\n",
              "      <th>4.0</th>\n",
              "      <td>568897.82</td>\n",
              "      <td>345367.18</td>\n",
              "      <td>707614.22</td>\n",
              "      <td>502720.96</td>\n",
              "      <td>1100528.04</td>\n",
              "      <td>898895.50</td>\n",
              "      <td>479956.24</td>\n",
              "      <td>1624852.38</td>\n",
              "      <td>552508.14</td>\n",
              "    </tr>\n",
              "    <tr>\n",
              "      <th>5.0</th>\n",
              "      <td>477707.98</td>\n",
              "      <td>321270.44</td>\n",
              "      <td>657607.30</td>\n",
              "      <td>536912.98</td>\n",
              "      <td>999378.42</td>\n",
              "      <td>872252.80</td>\n",
              "      <td>463416.02</td>\n",
              "      <td>1553358.98</td>\n",
              "      <td>423308.58</td>\n",
              "    </tr>\n",
              "    <tr>\n",
              "      <th>6.0</th>\n",
              "      <td>439632.94</td>\n",
              "      <td>288114.58</td>\n",
              "      <td>509495.78</td>\n",
              "      <td>373771.50</td>\n",
              "      <td>903063.86</td>\n",
              "      <td>648297.16</td>\n",
              "      <td>339174.70</td>\n",
              "      <td>1226346.96</td>\n",
              "      <td>427707.04</td>\n",
              "    </tr>\n",
              "    <tr>\n",
              "      <th>7.0</th>\n",
              "      <td>423532.94</td>\n",
              "      <td>300649.86</td>\n",
              "      <td>582994.28</td>\n",
              "      <td>424650.34</td>\n",
              "      <td>788669.28</td>\n",
              "      <td>711432.20</td>\n",
              "      <td>352831.26</td>\n",
              "      <td>1285763.52</td>\n",
              "      <td>425027.84</td>\n",
              "    </tr>\n",
              "    <tr>\n",
              "      <th>8.0</th>\n",
              "      <td>338535.32</td>\n",
              "      <td>251427.22</td>\n",
              "      <td>478550.52</td>\n",
              "      <td>359526.92</td>\n",
              "      <td>691787.00</td>\n",
              "      <td>606366.92</td>\n",
              "      <td>305755.48</td>\n",
              "      <td>1077556.20</td>\n",
              "      <td>379430.18</td>\n",
              "    </tr>\n",
              "    <tr>\n",
              "      <th>9.0</th>\n",
              "      <td>342557.78</td>\n",
              "      <td>212967.40</td>\n",
              "      <td>496817.46</td>\n",
              "      <td>328425.72</td>\n",
              "      <td>708151.38</td>\n",
              "      <td>601127.66</td>\n",
              "      <td>265142.88</td>\n",
              "      <td>927191.44</td>\n",
              "      <td>312738.54</td>\n",
              "    </tr>\n",
              "    <tr>\n",
              "      <th>10.0</th>\n",
              "      <td>612586.02</td>\n",
              "      <td>406392.24</td>\n",
              "      <td>734072.78</td>\n",
              "      <td>646271.20</td>\n",
              "      <td>1224906.50</td>\n",
              "      <td>973908.82</td>\n",
              "      <td>508201.72</td>\n",
              "      <td>1733401.96</td>\n",
              "      <td>633712.52</td>\n",
              "    </tr>\n",
              "    <tr>\n",
              "      <th>11.0</th>\n",
              "      <td>550677.40</td>\n",
              "      <td>342572.94</td>\n",
              "      <td>703092.04</td>\n",
              "      <td>497219.12</td>\n",
              "      <td>999381.58</td>\n",
              "      <td>856360.64</td>\n",
              "      <td>415783.84</td>\n",
              "      <td>1529958.58</td>\n",
              "      <td>504160.26</td>\n",
              "    </tr>\n",
              "    <tr>\n",
              "      <th>12.0</th>\n",
              "      <td>721798.52</td>\n",
              "      <td>467554.18</td>\n",
              "      <td>1019198.32</td>\n",
              "      <td>761437.70</td>\n",
              "      <td>1368089.68</td>\n",
              "      <td>1293541.66</td>\n",
              "      <td>607428.22</td>\n",
              "      <td>2213202.54</td>\n",
              "      <td>774635.86</td>\n",
              "    </tr>\n",
              "  </tbody>\n",
              "</table>\n",
              "</div>"
            ],
            "text/plain": [
              "city     Atlanta     Austin      Boston     Dallas   Los Angeles  \\\n",
              "month                                                              \n",
              "1.0    298319.08  176174.12   402176.98  286925.02     577203.80   \n",
              "2.0    352940.60  217574.80   429616.72  373335.98     684123.32   \n",
              "3.0    463810.76  309098.54   602047.62  444753.36     859858.74   \n",
              "4.0    568897.82  345367.18   707614.22  502720.96    1100528.04   \n",
              "5.0    477707.98  321270.44   657607.30  536912.98     999378.42   \n",
              "6.0    439632.94  288114.58   509495.78  373771.50     903063.86   \n",
              "7.0    423532.94  300649.86   582994.28  424650.34     788669.28   \n",
              "8.0    338535.32  251427.22   478550.52  359526.92     691787.00   \n",
              "9.0    342557.78  212967.40   496817.46  328425.72     708151.38   \n",
              "10.0   612586.02  406392.24   734072.78  646271.20    1224906.50   \n",
              "11.0   550677.40  342572.94   703092.04  497219.12     999381.58   \n",
              "12.0   721798.52  467554.18  1019198.32  761437.70    1368089.68   \n",
              "\n",
              "city    New York City   Portland   San Francisco    Seattle  \n",
              "month                                                        \n",
              "1.0         521182.58  229971.12       871176.66  281384.10  \n",
              "2.0         610744.52  298903.72      1094144.68  342660.50  \n",
              "3.0         734524.40  374416.02      1387453.92  438237.40  \n",
              "4.0         898895.50  479956.24      1624852.38  552508.14  \n",
              "5.0         872252.80  463416.02      1553358.98  423308.58  \n",
              "6.0         648297.16  339174.70      1226346.96  427707.04  \n",
              "7.0         711432.20  352831.26      1285763.52  425027.84  \n",
              "8.0         606366.92  305755.48      1077556.20  379430.18  \n",
              "9.0         601127.66  265142.88       927191.44  312738.54  \n",
              "10.0        973908.82  508201.72      1733401.96  633712.52  \n",
              "11.0        856360.64  415783.84      1529958.58  504160.26  \n",
              "12.0       1293541.66  607428.22      2213202.54  774635.86  "
            ]
          },
          "execution_count": 28,
          "metadata": {},
          "output_type": "execute_result"
        }
      ],
      "source": [
        "pd.pivot_table(index = 'month',\n",
        "              columns = 'city',\n",
        "              values = 'Total amount',\n",
        "              data = df,\n",
        "              aggfunc = sum)"
      ]
    },
    {
      "cell_type": "markdown",
      "id": "a82a0c19",
      "metadata": {
        "id": "a82a0c19"
      },
      "source": [
        "* from the above code we can see that order city, month and total amount information with their which city spend how much money. \n"
      ]
    },
    {
      "cell_type": "code",
      "execution_count": null,
      "id": "ce6dfd65",
      "metadata": {
        "id": "ce6dfd65"
      },
      "outputs": [],
      "source": [
        "#Which Month had the highest amount of sales overall"
      ]
    },
    {
      "cell_type": "code",
      "execution_count": null,
      "id": "5785764b",
      "metadata": {
        "id": "5785764b",
        "outputId": "1340b10d-5952-4a42-aef1-0631b054f3ff"
      },
      "outputs": [
        {
          "data": {
            "text/plain": [
              "city\n",
              " Atlanta          5.590997e+06\n",
              " Austin           3.639164e+06\n",
              " Boston           7.323284e+06\n",
              " Dallas           5.535951e+06\n",
              " Los Angeles      1.090514e+07\n",
              " New York City    9.328635e+06\n",
              " Portland         4.640981e+06\n",
              " San Francisco    1.652441e+07\n",
              " Seattle          5.495511e+06\n",
              "Name: Total amount, dtype: float64"
            ]
          },
          "execution_count": 31,
          "metadata": {},
          "output_type": "execute_result"
        }
      ],
      "source": [
        "#to find here heighest overall per city\n",
        "#here i am using groupby function with max aggrigate\n",
        "g_city = df.groupby(['city'])['Total amount'].sum()\n",
        "g_city"
      ]
    },
    {
      "cell_type": "code",
      "execution_count": null,
      "id": "4883a815",
      "metadata": {
        "id": "4883a815",
        "outputId": "8b70d73a-72f8-4afd-d6f4-29ab725f36e9"
      },
      "outputs": [
        {
          "data": {
            "text/plain": [
              "(array([0, 1, 2, 3, 4, 5, 6, 7, 8]),\n",
              " [Text(0, 0, ' Atlanta'),\n",
              "  Text(1, 0, ' Austin'),\n",
              "  Text(2, 0, ' Boston'),\n",
              "  Text(3, 0, ' Dallas'),\n",
              "  Text(4, 0, ' Los Angeles'),\n",
              "  Text(5, 0, ' New York City'),\n",
              "  Text(6, 0, ' Portland'),\n",
              "  Text(7, 0, ' San Francisco'),\n",
              "  Text(8, 0, ' Seattle')])"
            ]
          },
          "execution_count": 32,
          "metadata": {},
          "output_type": "execute_result"
        },
        {
          "data": {
            "image/png": "[encoded data removed]",
            "text/plain": [
              "<Figure size 936x648 with 1 Axes>"
            ]
          },
          "metadata": {
            "needs_background": "light"
          },
          "output_type": "display_data"
        }
      ],
      "source": [
        "#visulation \n",
        "g_city.plot(kind = 'bar',figsize = (13,9), color = ['salmon', 'green'])\n",
        "plt.ylabel('Total amount')\n",
        "plt.legend(['amount'])\n",
        "plt.xticks(rotation = 45)"
      ]
    },
    {
      "cell_type": "markdown",
      "id": "0c649662",
      "metadata": {
        "id": "0c649662"
      },
      "source": [
        "* here we can see that san francisco has heighest amount of sale. \n"
      ]
    },
    {
      "cell_type": "code",
      "execution_count": null,
      "id": "d61971f4",
      "metadata": {
        "id": "d61971f4"
      },
      "outputs": [],
      "source": [
        "# Most bought products per city."
      ]
    },
    {
      "cell_type": "code",
      "execution_count": null,
      "id": "fd9db83f",
      "metadata": {
        "id": "fd9db83f",
        "outputId": "c4526ef7-6ec9-47e7-e9ec-77341096400b"
      },
      "outputs": [
        {
          "data": {
            "text/html": [
              "<div>\n",
              "<style scoped>\n",
              "    .dataframe tbody tr th:only-of-type {\n",
              "        vertical-align: middle;\n",
              "    }\n",
              "\n",
              "    .dataframe tbody tr th {\n",
              "        vertical-align: top;\n",
              "    }\n",
              "\n",
              "    .dataframe thead th {\n",
              "        text-align: right;\n",
              "    }\n",
              "</style>\n",
              "<table border=\"1\" class=\"dataframe\">\n",
              "  <thead>\n",
              "    <tr style=\"text-align: right;\">\n",
              "      <th></th>\n",
              "      <th>Order ID</th>\n",
              "      <th>Quantity Ordered</th>\n",
              "      <th>Price Each</th>\n",
              "      <th>Day</th>\n",
              "      <th>month</th>\n",
              "      <th>year</th>\n",
              "      <th>hour</th>\n",
              "      <th>minute</th>\n",
              "      <th>Total amount</th>\n",
              "    </tr>\n",
              "    <tr>\n",
              "      <th>city</th>\n",
              "      <th></th>\n",
              "      <th></th>\n",
              "      <th></th>\n",
              "      <th></th>\n",
              "      <th></th>\n",
              "      <th></th>\n",
              "      <th></th>\n",
              "      <th></th>\n",
              "      <th></th>\n",
              "    </tr>\n",
              "  </thead>\n",
              "  <tbody>\n",
              "    <tr>\n",
              "      <th>Atlanta</th>\n",
              "      <td>6.847677e+09</td>\n",
              "      <td>33204.0</td>\n",
              "      <td>5.559816e+06</td>\n",
              "      <td>469674.0</td>\n",
              "      <td>209588.0</td>\n",
              "      <td>60089478.0</td>\n",
              "      <td>428528.0</td>\n",
              "      <td>885864.0</td>\n",
              "      <td>5.590997e+06</td>\n",
              "    </tr>\n",
              "    <tr>\n",
              "      <th>Austin</th>\n",
              "      <td>4.561964e+09</td>\n",
              "      <td>22306.0</td>\n",
              "      <td>3.619747e+06</td>\n",
              "      <td>313564.0</td>\n",
              "      <td>139658.0</td>\n",
              "      <td>39996394.0</td>\n",
              "      <td>283892.0</td>\n",
              "      <td>578120.0</td>\n",
              "      <td>3.639164e+06</td>\n",
              "    </tr>\n",
              "    <tr>\n",
              "      <th>Boston</th>\n",
              "      <td>9.196531e+09</td>\n",
              "      <td>45056.0</td>\n",
              "      <td>7.274820e+06</td>\n",
              "      <td>624752.0</td>\n",
              "      <td>282224.0</td>\n",
              "      <td>80493500.0</td>\n",
              "      <td>576450.0</td>\n",
              "      <td>1180884.0</td>\n",
              "      <td>7.323284e+06</td>\n",
              "    </tr>\n",
              "    <tr>\n",
              "      <th>Dallas</th>\n",
              "      <td>6.831287e+09</td>\n",
              "      <td>33460.0</td>\n",
              "      <td>5.505256e+06</td>\n",
              "      <td>468870.0</td>\n",
              "      <td>209240.0</td>\n",
              "      <td>59843164.0</td>\n",
              "      <td>428780.0</td>\n",
              "      <td>870310.0</td>\n",
              "      <td>5.535951e+06</td>\n",
              "    </tr>\n",
              "    <tr>\n",
              "      <th>Los Angeles</th>\n",
              "      <td>1.362217e+10</td>\n",
              "      <td>66578.0</td>\n",
              "      <td>1.084287e+07</td>\n",
              "      <td>939214.0</td>\n",
              "      <td>416650.0</td>\n",
              "      <td>119544992.0</td>\n",
              "      <td>854888.0</td>\n",
              "      <td>1733276.0</td>\n",
              "      <td>1.090514e+07</td>\n",
              "    </tr>\n",
              "    <tr>\n",
              "      <th>New York City</th>\n",
              "      <td>1.147267e+10</td>\n",
              "      <td>55864.0</td>\n",
              "      <td>9.270742e+06</td>\n",
              "      <td>785412.0</td>\n",
              "      <td>351482.0</td>\n",
              "      <td>100449308.0</td>\n",
              "      <td>715392.0</td>\n",
              "      <td>1467196.0</td>\n",
              "      <td>9.328635e+06</td>\n",
              "    </tr>\n",
              "    <tr>\n",
              "      <th>Portland</th>\n",
              "      <td>5.737722e+09</td>\n",
              "      <td>28106.0</td>\n",
              "      <td>4.615495e+06</td>\n",
              "      <td>395042.0</td>\n",
              "      <td>175530.0</td>\n",
              "      <td>50333674.0</td>\n",
              "      <td>359264.0</td>\n",
              "      <td>736778.0</td>\n",
              "      <td>4.640981e+06</td>\n",
              "    </tr>\n",
              "    <tr>\n",
              "      <th>San Francisco</th>\n",
              "      <td>2.060889e+10</td>\n",
              "      <td>100478.0</td>\n",
              "      <td>1.642292e+07</td>\n",
              "      <td>1405338.0</td>\n",
              "      <td>631040.0</td>\n",
              "      <td>180627840.0</td>\n",
              "      <td>1286530.0</td>\n",
              "      <td>2638954.0</td>\n",
              "      <td>1.652441e+07</td>\n",
              "    </tr>\n",
              "    <tr>\n",
              "      <th>Seattle</th>\n",
              "      <td>6.813388e+09</td>\n",
              "      <td>33106.0</td>\n",
              "      <td>5.466592e+06</td>\n",
              "      <td>459104.0</td>\n",
              "      <td>209882.0</td>\n",
              "      <td>59487818.0</td>\n",
              "      <td>426584.0</td>\n",
              "      <td>872736.0</td>\n",
              "      <td>5.495511e+06</td>\n",
              "    </tr>\n",
              "  </tbody>\n",
              "</table>\n",
              "</div>"
            ],
            "text/plain": [
              "                    Order ID  Quantity Ordered    Price Each        Day  \\\n",
              "city                                                                      \n",
              " Atlanta        6.847677e+09           33204.0  5.559816e+06   469674.0   \n",
              " Austin         4.561964e+09           22306.0  3.619747e+06   313564.0   \n",
              " Boston         9.196531e+09           45056.0  7.274820e+06   624752.0   \n",
              " Dallas         6.831287e+09           33460.0  5.505256e+06   468870.0   \n",
              " Los Angeles    1.362217e+10           66578.0  1.084287e+07   939214.0   \n",
              " New York City  1.147267e+10           55864.0  9.270742e+06   785412.0   \n",
              " Portland       5.737722e+09           28106.0  4.615495e+06   395042.0   \n",
              " San Francisco  2.060889e+10          100478.0  1.642292e+07  1405338.0   \n",
              " Seattle        6.813388e+09           33106.0  5.466592e+06   459104.0   \n",
              "\n",
              "                   month         year       hour     minute  Total amount  \n",
              "city                                                                       \n",
              " Atlanta        209588.0   60089478.0   428528.0   885864.0  5.590997e+06  \n",
              " Austin         139658.0   39996394.0   283892.0   578120.0  3.639164e+06  \n",
              " Boston         282224.0   80493500.0   576450.0  1180884.0  7.323284e+06  \n",
              " Dallas         209240.0   59843164.0   428780.0   870310.0  5.535951e+06  \n",
              " Los Angeles    416650.0  119544992.0   854888.0  1733276.0  1.090514e+07  \n",
              " New York City  351482.0  100449308.0   715392.0  1467196.0  9.328635e+06  \n",
              " Portland       175530.0   50333674.0   359264.0   736778.0  4.640981e+06  \n",
              " San Francisco  631040.0  180627840.0  1286530.0  2638954.0  1.652441e+07  \n",
              " Seattle        209882.0   59487818.0   426584.0   872736.0  5.495511e+06  "
            ]
          },
          "execution_count": 34,
          "metadata": {},
          "output_type": "execute_result"
        }
      ],
      "source": [
        "results = df.groupby('city').sum()\n",
        "results"
      ]
    },
    {
      "cell_type": "markdown",
      "id": "3116f6e8",
      "metadata": {
        "id": "3116f6e8"
      },
      "source": [
        "* summary:- as per the above steps conclude that san francisco stablish new branch for rental store. due to heighest sales comparing all city and the most product buy being by the san francisco. heighest month of sales in december in christmas time.  \n"
      ]
    },
    {
      "cell_type": "markdown",
      "id": "841f984f",
      "metadata": {
        "id": "841f984f"
      },
      "source": [
        "# 5:-Find out the distribution of sales over different times of the day (Morning, Afternoon, Evening, Night).\n"
      ]
    },
    {
      "cell_type": "code",
      "execution_count": null,
      "id": "b050d4c6",
      "metadata": {
        "id": "b050d4c6",
        "outputId": "5d22ea17-308c-473e-d762-32958e6c696d"
      },
      "outputs": [
        {
          "data": {
            "text/html": [
              "<div>\n",
              "<style scoped>\n",
              "    .dataframe tbody tr th:only-of-type {\n",
              "        vertical-align: middle;\n",
              "    }\n",
              "\n",
              "    .dataframe tbody tr th {\n",
              "        vertical-align: top;\n",
              "    }\n",
              "\n",
              "    .dataframe thead th {\n",
              "        text-align: right;\n",
              "    }\n",
              "</style>\n",
              "<table border=\"1\" class=\"dataframe\">\n",
              "  <thead>\n",
              "    <tr style=\"text-align: right;\">\n",
              "      <th></th>\n",
              "      <th>Order ID</th>\n",
              "      <th>Product</th>\n",
              "      <th>Quantity Ordered</th>\n",
              "      <th>Price Each</th>\n",
              "      <th>Purchase Address</th>\n",
              "      <th>Day</th>\n",
              "      <th>month</th>\n",
              "      <th>year</th>\n",
              "      <th>hour</th>\n",
              "      <th>minute</th>\n",
              "      <th>city</th>\n",
              "      <th>Total amount</th>\n",
              "    </tr>\n",
              "  </thead>\n",
              "  <tbody>\n",
              "    <tr>\n",
              "      <th>0</th>\n",
              "      <td>141234.0</td>\n",
              "      <td>iPhone</td>\n",
              "      <td>1.0</td>\n",
              "      <td>700.00</td>\n",
              "      <td>944 Walnut St, Boston, MA 02215</td>\n",
              "      <td>22.0</td>\n",
              "      <td>1.0</td>\n",
              "      <td>2019.0</td>\n",
              "      <td>21.0</td>\n",
              "      <td>25.0</td>\n",
              "      <td>Boston</td>\n",
              "      <td>700.00</td>\n",
              "    </tr>\n",
              "    <tr>\n",
              "      <th>1</th>\n",
              "      <td>141235.0</td>\n",
              "      <td>Lightning Charging Cable</td>\n",
              "      <td>1.0</td>\n",
              "      <td>14.95</td>\n",
              "      <td>185 Maple St, Portland, OR 97035</td>\n",
              "      <td>28.0</td>\n",
              "      <td>1.0</td>\n",
              "      <td>2019.0</td>\n",
              "      <td>14.0</td>\n",
              "      <td>15.0</td>\n",
              "      <td>Portland</td>\n",
              "      <td>14.95</td>\n",
              "    </tr>\n",
              "    <tr>\n",
              "      <th>2</th>\n",
              "      <td>141236.0</td>\n",
              "      <td>Wired Headphones</td>\n",
              "      <td>2.0</td>\n",
              "      <td>11.99</td>\n",
              "      <td>538 Adams St, San Francisco, CA 94016</td>\n",
              "      <td>17.0</td>\n",
              "      <td>1.0</td>\n",
              "      <td>2019.0</td>\n",
              "      <td>13.0</td>\n",
              "      <td>33.0</td>\n",
              "      <td>San Francisco</td>\n",
              "      <td>23.98</td>\n",
              "    </tr>\n",
              "    <tr>\n",
              "      <th>3</th>\n",
              "      <td>141237.0</td>\n",
              "      <td>27in FHD Monitor</td>\n",
              "      <td>1.0</td>\n",
              "      <td>149.99</td>\n",
              "      <td>738 10th St, Los Angeles, CA 90001</td>\n",
              "      <td>5.0</td>\n",
              "      <td>1.0</td>\n",
              "      <td>2019.0</td>\n",
              "      <td>20.0</td>\n",
              "      <td>33.0</td>\n",
              "      <td>Los Angeles</td>\n",
              "      <td>149.99</td>\n",
              "    </tr>\n",
              "    <tr>\n",
              "      <th>4</th>\n",
              "      <td>141238.0</td>\n",
              "      <td>Wired Headphones</td>\n",
              "      <td>1.0</td>\n",
              "      <td>11.99</td>\n",
              "      <td>387 10th St, Austin, TX 73301</td>\n",
              "      <td>25.0</td>\n",
              "      <td>1.0</td>\n",
              "      <td>2019.0</td>\n",
              "      <td>11.0</td>\n",
              "      <td>59.0</td>\n",
              "      <td>Austin</td>\n",
              "      <td>11.99</td>\n",
              "    </tr>\n",
              "  </tbody>\n",
              "</table>\n",
              "</div>"
            ],
            "text/plain": [
              "   Order ID                   Product  Quantity Ordered  Price Each  \\\n",
              "0  141234.0                    iPhone               1.0      700.00   \n",
              "1  141235.0  Lightning Charging Cable               1.0       14.95   \n",
              "2  141236.0          Wired Headphones               2.0       11.99   \n",
              "3  141237.0          27in FHD Monitor               1.0      149.99   \n",
              "4  141238.0          Wired Headphones               1.0       11.99   \n",
              "\n",
              "                        Purchase Address   Day  month    year  hour  minute  \\\n",
              "0        944 Walnut St, Boston, MA 02215  22.0    1.0  2019.0  21.0    25.0   \n",
              "1       185 Maple St, Portland, OR 97035  28.0    1.0  2019.0  14.0    15.0   \n",
              "2  538 Adams St, San Francisco, CA 94016  17.0    1.0  2019.0  13.0    33.0   \n",
              "3     738 10th St, Los Angeles, CA 90001   5.0    1.0  2019.0  20.0    33.0   \n",
              "4          387 10th St, Austin, TX 73301  25.0    1.0  2019.0  11.0    59.0   \n",
              "\n",
              "             city  Total amount  \n",
              "0          Boston        700.00  \n",
              "1        Portland         14.95  \n",
              "2   San Francisco         23.98  \n",
              "3     Los Angeles        149.99  \n",
              "4          Austin         11.99  "
            ]
          },
          "execution_count": 35,
          "metadata": {},
          "output_type": "execute_result"
        }
      ],
      "source": [
        "df.head()"
      ]
    },
    {
      "cell_type": "code",
      "execution_count": null,
      "id": "aae16bc2",
      "metadata": {
        "id": "aae16bc2",
        "outputId": "194b2c72-e7cd-43e0-b92f-3a32515e522c"
      },
      "outputs": [
        {
          "data": {
            "text/plain": [
              "Text(0.5, 1.0, 'sales during day')"
            ]
          },
          "execution_count": 40,
          "metadata": {},
          "output_type": "execute_result"
        },
        {
          "data": {
            "image/png": "[encoded data removed]",
            "text/plain": [
              "<Figure size 720x432 with 1 Axes>"
            ]
          },
          "metadata": {
            "needs_background": "light"
          },
          "output_type": "display_data"
        }
      ],
      "source": [
        "#visulation sales during day time\n",
        "plt.figure(figsize = (10,6))\n",
        "sns.lineplot(x = df['hour'], y = df['Total amount'])\n",
        "plt.title('sales during day')"
      ]
    },
    {
      "cell_type": "code",
      "execution_count": null,
      "id": "3cf9c710",
      "metadata": {
        "id": "3cf9c710",
        "outputId": "fb2c48f5-e416-4630-cfb4-b1b6b61b3996"
      },
      "outputs": [
        {
          "data": {
            "text/html": [
              "<div>\n",
              "<style scoped>\n",
              "    .dataframe tbody tr th:only-of-type {\n",
              "        vertical-align: middle;\n",
              "    }\n",
              "\n",
              "    .dataframe tbody tr th {\n",
              "        vertical-align: top;\n",
              "    }\n",
              "\n",
              "    .dataframe thead th {\n",
              "        text-align: right;\n",
              "    }\n",
              "</style>\n",
              "<table border=\"1\" class=\"dataframe\">\n",
              "  <thead>\n",
              "    <tr style=\"text-align: right;\">\n",
              "      <th></th>\n",
              "      <th>Order ID</th>\n",
              "      <th>Product</th>\n",
              "      <th>Quantity Ordered</th>\n",
              "      <th>Price Each</th>\n",
              "      <th>Purchase Address</th>\n",
              "      <th>Day</th>\n",
              "      <th>month</th>\n",
              "      <th>year</th>\n",
              "      <th>hour</th>\n",
              "      <th>minute</th>\n",
              "      <th>city</th>\n",
              "      <th>Total amount</th>\n",
              "    </tr>\n",
              "  </thead>\n",
              "  <tbody>\n",
              "    <tr>\n",
              "      <th>4</th>\n",
              "      <td>141238.0</td>\n",
              "      <td>Wired Headphones</td>\n",
              "      <td>1.0</td>\n",
              "      <td>11.99</td>\n",
              "      <td>387 10th St, Austin, TX 73301</td>\n",
              "      <td>25.0</td>\n",
              "      <td>1.0</td>\n",
              "      <td>2019.0</td>\n",
              "      <td>11.0</td>\n",
              "      <td>59.0</td>\n",
              "      <td>Austin</td>\n",
              "      <td>11.99</td>\n",
              "    </tr>\n",
              "    <tr>\n",
              "      <th>8</th>\n",
              "      <td>141242.0</td>\n",
              "      <td>Bose SoundSport Headphones</td>\n",
              "      <td>1.0</td>\n",
              "      <td>99.99</td>\n",
              "      <td>867 Willow St, Los Angeles, CA 90001</td>\n",
              "      <td>1.0</td>\n",
              "      <td>1.0</td>\n",
              "      <td>2019.0</td>\n",
              "      <td>10.0</td>\n",
              "      <td>30.0</td>\n",
              "      <td>Los Angeles</td>\n",
              "      <td>99.99</td>\n",
              "    </tr>\n",
              "    <tr>\n",
              "      <th>10</th>\n",
              "      <td>141244.0</td>\n",
              "      <td>Apple Airpods Headphones</td>\n",
              "      <td>1.0</td>\n",
              "      <td>150.00</td>\n",
              "      <td>492 Walnut St, San Francisco, CA 94016</td>\n",
              "      <td>7.0</td>\n",
              "      <td>1.0</td>\n",
              "      <td>2019.0</td>\n",
              "      <td>11.0</td>\n",
              "      <td>29.0</td>\n",
              "      <td>San Francisco</td>\n",
              "      <td>150.00</td>\n",
              "    </tr>\n",
              "    <tr>\n",
              "      <th>11</th>\n",
              "      <td>141245.0</td>\n",
              "      <td>Macbook Pro Laptop</td>\n",
              "      <td>1.0</td>\n",
              "      <td>1700.00</td>\n",
              "      <td>322 6th St, San Francisco, CA 94016</td>\n",
              "      <td>31.0</td>\n",
              "      <td>1.0</td>\n",
              "      <td>2019.0</td>\n",
              "      <td>10.0</td>\n",
              "      <td>12.0</td>\n",
              "      <td>San Francisco</td>\n",
              "      <td>1700.00</td>\n",
              "    </tr>\n",
              "    <tr>\n",
              "      <th>16</th>\n",
              "      <td>141250.0</td>\n",
              "      <td>Vareebadd Phone</td>\n",
              "      <td>1.0</td>\n",
              "      <td>400.00</td>\n",
              "      <td>471 Center St, Los Angeles, CA 90001</td>\n",
              "      <td>10.0</td>\n",
              "      <td>1.0</td>\n",
              "      <td>2019.0</td>\n",
              "      <td>11.0</td>\n",
              "      <td>20.0</td>\n",
              "      <td>Los Angeles</td>\n",
              "      <td>400.00</td>\n",
              "    </tr>\n",
              "  </tbody>\n",
              "</table>\n",
              "</div>"
            ],
            "text/plain": [
              "    Order ID                     Product  Quantity Ordered  Price Each  \\\n",
              "4   141238.0            Wired Headphones               1.0       11.99   \n",
              "8   141242.0  Bose SoundSport Headphones               1.0       99.99   \n",
              "10  141244.0    Apple Airpods Headphones               1.0      150.00   \n",
              "11  141245.0          Macbook Pro Laptop               1.0     1700.00   \n",
              "16  141250.0             Vareebadd Phone               1.0      400.00   \n",
              "\n",
              "                          Purchase Address   Day  month    year  hour  minute  \\\n",
              "4            387 10th St, Austin, TX 73301  25.0    1.0  2019.0  11.0    59.0   \n",
              "8     867 Willow St, Los Angeles, CA 90001   1.0    1.0  2019.0  10.0    30.0   \n",
              "10  492 Walnut St, San Francisco, CA 94016   7.0    1.0  2019.0  11.0    29.0   \n",
              "11     322 6th St, San Francisco, CA 94016  31.0    1.0  2019.0  10.0    12.0   \n",
              "16    471 Center St, Los Angeles, CA 90001  10.0    1.0  2019.0  11.0    20.0   \n",
              "\n",
              "              city  Total amount  \n",
              "4           Austin         11.99  \n",
              "8      Los Angeles         99.99  \n",
              "10   San Francisco        150.00  \n",
              "11   San Francisco       1700.00  \n",
              "16     Los Angeles        400.00  "
            ]
          },
          "execution_count": 41,
          "metadata": {},
          "output_type": "execute_result"
        }
      ],
      "source": [
        "#spliting dataset into morning\n",
        "morning = df[(df['hour'] > 6.0) & (df['hour'] < 12.0)].replace('morning')\n",
        "morning.head()"
      ]
    },
    {
      "cell_type": "code",
      "execution_count": null,
      "id": "5c33c266",
      "metadata": {
        "id": "5c33c266",
        "outputId": "5ad91e33-de05-4d94-d5cc-6a608211ef65"
      },
      "outputs": [
        {
          "data": {
            "text/plain": [
              "Text(0.5, 1.0, 'sales during morning')"
            ]
          },
          "execution_count": 42,
          "metadata": {},
          "output_type": "execute_result"
        },
        {
          "data": {
            "image/png": "[encoded data removed]",
            "text/plain": [
              "<Figure size 720x360 with 1 Axes>"
            ]
          },
          "metadata": {
            "needs_background": "light"
          },
          "output_type": "display_data"
        }
      ],
      "source": [
        "#visulation sales distribution during morning.\n",
        "plt.figure(figsize = (10,5))\n",
        "sns.lineplot(x = morning['hour'], y = morning['Total amount'])\n",
        "plt.title('sales during morning')"
      ]
    },
    {
      "cell_type": "code",
      "execution_count": null,
      "id": "15ac60e2",
      "metadata": {
        "id": "15ac60e2",
        "outputId": "6236ecc5-ab53-4ab6-9c54-092fed960b3d"
      },
      "outputs": [
        {
          "data": {
            "text/plain": [
              "Product\n",
              "20in Monitor                   219.98\n",
              "27in 4K Gaming Monitor         779.98\n",
              "27in FHD Monitor               299.98\n",
              "34in Ultrawide Monitor         759.98\n",
              "AA Batteries (4-pack)           23.04\n",
              "AAA Batteries (4-pack)          26.91\n",
              "Apple Airpods Headphones       300.00\n",
              "Bose SoundSport Headphones     199.98\n",
              "Flatscreen TV                  600.00\n",
              "Google Phone                  1200.00\n",
              "LG Dryer                       600.00\n",
              "LG Washing Machine             600.00\n",
              "Lightning Charging Cable        44.85\n",
              "Macbook Pro Laptop            3400.00\n",
              "ThinkPad Laptop                999.99\n",
              "USB-C Charging Cable            47.80\n",
              "Vareebadd Phone                400.00\n",
              "Wired Headphones                47.96\n",
              "iPhone                        1400.00\n",
              "Name: Total amount, dtype: float64"
            ]
          },
          "execution_count": 50,
          "metadata": {},
          "output_type": "execute_result"
        }
      ],
      "source": [
        "# product most sold in morning\n",
        "morning_sale = morning.groupby('Product')['Total amount'].max()\n",
        "morning_sale"
      ]
    },
    {
      "cell_type": "code",
      "execution_count": null,
      "id": "ce5d2a94",
      "metadata": {
        "id": "ce5d2a94",
        "outputId": "fa476c1d-3d03-49b9-fe3e-2b709166a20b"
      },
      "outputs": [
        {
          "data": {
            "text/plain": [
              "(array([ 0,  1,  2,  3,  4,  5,  6,  7,  8,  9, 10, 11, 12, 13, 14, 15, 16,\n",
              "        17, 18]),\n",
              " [Text(0, 0, '20in Monitor'),\n",
              "  Text(1, 0, '27in 4K Gaming Monitor'),\n",
              "  Text(2, 0, '27in FHD Monitor'),\n",
              "  Text(3, 0, '34in Ultrawide Monitor'),\n",
              "  Text(4, 0, 'AA Batteries (4-pack)'),\n",
              "  Text(5, 0, 'AAA Batteries (4-pack)'),\n",
              "  Text(6, 0, 'Apple Airpods Headphones'),\n",
              "  Text(7, 0, 'Bose SoundSport Headphones'),\n",
              "  Text(8, 0, 'Flatscreen TV'),\n",
              "  Text(9, 0, 'Google Phone'),\n",
              "  Text(10, 0, 'LG Dryer'),\n",
              "  Text(11, 0, 'LG Washing Machine'),\n",
              "  Text(12, 0, 'Lightning Charging Cable'),\n",
              "  Text(13, 0, 'Macbook Pro Laptop'),\n",
              "  Text(14, 0, 'ThinkPad Laptop'),\n",
              "  Text(15, 0, 'USB-C Charging Cable'),\n",
              "  Text(16, 0, 'Vareebadd Phone'),\n",
              "  Text(17, 0, 'Wired Headphones'),\n",
              "  Text(18, 0, 'iPhone')])"
            ]
          },
          "execution_count": 56,
          "metadata": {},
          "output_type": "execute_result"
        },
        {
          "data": {
            "image/png": "[encoded data removed]",
            "text/plain": [
              "<Figure size 1152x864 with 1 Axes>"
            ]
          },
          "metadata": {
            "needs_background": "light"
          },
          "output_type": "display_data"
        }
      ],
      "source": [
        "# visulation\n",
        "morning_sale.plot(kind = 'bar', figsize = (16,12), color = ['blue','yellow'])\n",
        "plt.ylabel('Total ammount')\n",
        "plt.xlabel('Product')\n",
        "plt.xticks(rotation = 45)"
      ]
    },
    {
      "cell_type": "markdown",
      "id": "a90e4467",
      "metadata": {
        "id": "a90e4467"
      },
      "source": [
        "* from the above code we can see that lightning charger cable is the sold most during morning time."
      ]
    },
    {
      "cell_type": "code",
      "execution_count": null,
      "id": "1c8d6ad1",
      "metadata": {
        "id": "1c8d6ad1",
        "outputId": "8e1fc5d8-d693-4e5e-a590-1c2084f55096"
      },
      "outputs": [
        {
          "data": {
            "text/html": [
              "<div>\n",
              "<style scoped>\n",
              "    .dataframe tbody tr th:only-of-type {\n",
              "        vertical-align: middle;\n",
              "    }\n",
              "\n",
              "    .dataframe tbody tr th {\n",
              "        vertical-align: top;\n",
              "    }\n",
              "\n",
              "    .dataframe thead th {\n",
              "        text-align: right;\n",
              "    }\n",
              "</style>\n",
              "<table border=\"1\" class=\"dataframe\">\n",
              "  <thead>\n",
              "    <tr style=\"text-align: right;\">\n",
              "      <th></th>\n",
              "      <th>Order ID</th>\n",
              "      <th>Product</th>\n",
              "      <th>Quantity Ordered</th>\n",
              "      <th>Price Each</th>\n",
              "      <th>Purchase Address</th>\n",
              "      <th>Day</th>\n",
              "      <th>month</th>\n",
              "      <th>year</th>\n",
              "      <th>hour</th>\n",
              "      <th>minute</th>\n",
              "      <th>city</th>\n",
              "      <th>Total amount</th>\n",
              "    </tr>\n",
              "  </thead>\n",
              "  <tbody>\n",
              "    <tr>\n",
              "      <th>1</th>\n",
              "      <td>141235.0</td>\n",
              "      <td>Lightning Charging Cable</td>\n",
              "      <td>1.0</td>\n",
              "      <td>14.95</td>\n",
              "      <td>185 Maple St, Portland, OR 97035</td>\n",
              "      <td>28.0</td>\n",
              "      <td>1.0</td>\n",
              "      <td>2019.0</td>\n",
              "      <td>14.0</td>\n",
              "      <td>15.0</td>\n",
              "      <td>Portland</td>\n",
              "      <td>14.95</td>\n",
              "    </tr>\n",
              "    <tr>\n",
              "      <th>2</th>\n",
              "      <td>141236.0</td>\n",
              "      <td>Wired Headphones</td>\n",
              "      <td>2.0</td>\n",
              "      <td>11.99</td>\n",
              "      <td>538 Adams St, San Francisco, CA 94016</td>\n",
              "      <td>17.0</td>\n",
              "      <td>1.0</td>\n",
              "      <td>2019.0</td>\n",
              "      <td>13.0</td>\n",
              "      <td>33.0</td>\n",
              "      <td>San Francisco</td>\n",
              "      <td>23.98</td>\n",
              "    </tr>\n",
              "    <tr>\n",
              "      <th>15</th>\n",
              "      <td>141249.0</td>\n",
              "      <td>27in FHD Monitor</td>\n",
              "      <td>1.0</td>\n",
              "      <td>149.99</td>\n",
              "      <td>440 Cedar St, Portland, OR 97035</td>\n",
              "      <td>5.0</td>\n",
              "      <td>1.0</td>\n",
              "      <td>2019.0</td>\n",
              "      <td>17.0</td>\n",
              "      <td>20.0</td>\n",
              "      <td>Portland</td>\n",
              "      <td>149.99</td>\n",
              "    </tr>\n",
              "    <tr>\n",
              "      <th>25</th>\n",
              "      <td>141259.0</td>\n",
              "      <td>AAA Batteries (4-pack)</td>\n",
              "      <td>2.0</td>\n",
              "      <td>2.99</td>\n",
              "      <td>920 Adams St, San Francisco, CA 94016</td>\n",
              "      <td>20.0</td>\n",
              "      <td>1.0</td>\n",
              "      <td>2019.0</td>\n",
              "      <td>17.0</td>\n",
              "      <td>26.0</td>\n",
              "      <td>San Francisco</td>\n",
              "      <td>5.98</td>\n",
              "    </tr>\n",
              "    <tr>\n",
              "      <th>31</th>\n",
              "      <td>141265.0</td>\n",
              "      <td>Apple Airpods Headphones</td>\n",
              "      <td>1.0</td>\n",
              "      <td>150.00</td>\n",
              "      <td>853 Ridge St, Boston, MA 02215</td>\n",
              "      <td>1.0</td>\n",
              "      <td>1.0</td>\n",
              "      <td>2019.0</td>\n",
              "      <td>16.0</td>\n",
              "      <td>52.0</td>\n",
              "      <td>Boston</td>\n",
              "      <td>150.00</td>\n",
              "    </tr>\n",
              "  </tbody>\n",
              "</table>\n",
              "</div>"
            ],
            "text/plain": [
              "    Order ID                   Product  Quantity Ordered  Price Each  \\\n",
              "1   141235.0  Lightning Charging Cable               1.0       14.95   \n",
              "2   141236.0          Wired Headphones               2.0       11.99   \n",
              "15  141249.0          27in FHD Monitor               1.0      149.99   \n",
              "25  141259.0    AAA Batteries (4-pack)               2.0        2.99   \n",
              "31  141265.0  Apple Airpods Headphones               1.0      150.00   \n",
              "\n",
              "                         Purchase Address   Day  month    year  hour  minute  \\\n",
              "1        185 Maple St, Portland, OR 97035  28.0    1.0  2019.0  14.0    15.0   \n",
              "2   538 Adams St, San Francisco, CA 94016  17.0    1.0  2019.0  13.0    33.0   \n",
              "15       440 Cedar St, Portland, OR 97035   5.0    1.0  2019.0  17.0    20.0   \n",
              "25  920 Adams St, San Francisco, CA 94016  20.0    1.0  2019.0  17.0    26.0   \n",
              "31         853 Ridge St, Boston, MA 02215   1.0    1.0  2019.0  16.0    52.0   \n",
              "\n",
              "              city  Total amount  \n",
              "1         Portland         14.95  \n",
              "2    San Francisco         23.98  \n",
              "15        Portland        149.99  \n",
              "25   San Francisco          5.98  \n",
              "31          Boston        150.00  "
            ]
          },
          "execution_count": 59,
          "metadata": {},
          "output_type": "execute_result"
        }
      ],
      "source": [
        "afternoon = df[(df['hour'] > 12.0) & (df['hour'] < 18.0)]\n",
        "afternoon.head()"
      ]
    },
    {
      "cell_type": "code",
      "execution_count": null,
      "id": "d5cc53ef",
      "metadata": {
        "id": "d5cc53ef",
        "outputId": "a52e7ab1-8da4-4b3d-9002-2780cdbcccd5"
      },
      "outputs": [
        {
          "data": {
            "text/plain": [
              "Text(0.5, 1.0, 'sales during afternoon')"
            ]
          },
          "execution_count": 60,
          "metadata": {},
          "output_type": "execute_result"
        },
        {
          "data": {
            "image/png": "[encoded data removed]",
            "text/plain": [
              "<Figure size 720x432 with 1 Axes>"
            ]
          },
          "metadata": {
            "needs_background": "light"
          },
          "output_type": "display_data"
        }
      ],
      "source": [
        "plt.figure(figsize = (10,6))\n",
        "sns.lineplot(x = afternoon['hour'], y = afternoon['Total amount'])\n",
        "plt.title('sales during afternoon')"
      ]
    },
    {
      "cell_type": "code",
      "execution_count": null,
      "id": "3d2863ef",
      "metadata": {
        "id": "3d2863ef",
        "outputId": "b7eb9e61-9427-4c84-b63f-6ce38c84681e"
      },
      "outputs": [
        {
          "data": {
            "text/plain": [
              "Product\n",
              "20in Monitor                   219.98\n",
              "27in 4K Gaming Monitor         779.98\n",
              "27in FHD Monitor               299.98\n",
              "34in Ultrawide Monitor         759.98\n",
              "AA Batteries (4-pack)           26.88\n",
              "AAA Batteries (4-pack)          23.92\n",
              "Apple Airpods Headphones       300.00\n",
              "Bose SoundSport Headphones     199.98\n",
              "Flatscreen TV                  600.00\n",
              "Google Phone                  1200.00\n",
              "LG Dryer                       600.00\n",
              "LG Washing Machine             600.00\n",
              "Lightning Charging Cable        59.80\n",
              "Macbook Pro Laptop            3400.00\n",
              "ThinkPad Laptop               1999.98\n",
              "USB-C Charging Cable            47.80\n",
              "Vareebadd Phone                800.00\n",
              "Wired Headphones                47.96\n",
              "iPhone                        1400.00\n",
              "Name: Total amount, dtype: float64"
            ]
          },
          "execution_count": 61,
          "metadata": {},
          "output_type": "execute_result"
        }
      ],
      "source": [
        "afternoon_sale = afternoon.groupby('Product')['Total amount'].max()\n",
        "afternoon_sale"
      ]
    },
    {
      "cell_type": "code",
      "execution_count": null,
      "id": "13c19a61",
      "metadata": {
        "id": "13c19a61",
        "outputId": "7d60b8dd-b7e9-450c-8461-fb6e07616fec"
      },
      "outputs": [
        {
          "data": {
            "text/plain": [
              "(array([ 0,  1,  2,  3,  4,  5,  6,  7,  8,  9, 10, 11, 12, 13, 14, 15, 16,\n",
              "        17, 18]),\n",
              " [Text(0, 0, '20in Monitor'),\n",
              "  Text(1, 0, '27in 4K Gaming Monitor'),\n",
              "  Text(2, 0, '27in FHD Monitor'),\n",
              "  Text(3, 0, '34in Ultrawide Monitor'),\n",
              "  Text(4, 0, 'AA Batteries (4-pack)'),\n",
              "  Text(5, 0, 'AAA Batteries (4-pack)'),\n",
              "  Text(6, 0, 'Apple Airpods Headphones'),\n",
              "  Text(7, 0, 'Bose SoundSport Headphones'),\n",
              "  Text(8, 0, 'Flatscreen TV'),\n",
              "  Text(9, 0, 'Google Phone'),\n",
              "  Text(10, 0, 'LG Dryer'),\n",
              "  Text(11, 0, 'LG Washing Machine'),\n",
              "  Text(12, 0, 'Lightning Charging Cable'),\n",
              "  Text(13, 0, 'Macbook Pro Laptop'),\n",
              "  Text(14, 0, 'ThinkPad Laptop'),\n",
              "  Text(15, 0, 'USB-C Charging Cable'),\n",
              "  Text(16, 0, 'Vareebadd Phone'),\n",
              "  Text(17, 0, 'Wired Headphones'),\n",
              "  Text(18, 0, 'iPhone')])"
            ]
          },
          "execution_count": 63,
          "metadata": {},
          "output_type": "execute_result"
        },
        {
          "data": {
            "image/png": "[encoded data removed]",
            "text/plain": [
              "<Figure size 1152x864 with 1 Axes>"
            ]
          },
          "metadata": {
            "needs_background": "light"
          },
          "output_type": "display_data"
        }
      ],
      "source": [
        "#visulation\n",
        "afternoon_sale.plot(kind = 'bar', figsize = (16,12), color = ['red','black'])\n",
        "plt.ylabel('Total ammount')\n",
        "plt.xlabel('Product')\n",
        "plt.xticks(rotation = 45)"
      ]
    },
    {
      "cell_type": "markdown",
      "id": "0a9e55d0",
      "metadata": {
        "id": "0a9e55d0"
      },
      "source": [
        "* we can see that from above visulation lightning charger cable is sold in afternoon also same as morning."
      ]
    },
    {
      "cell_type": "code",
      "execution_count": null,
      "id": "840f39fa",
      "metadata": {
        "id": "840f39fa",
        "outputId": "aa9ce005-43fe-4546-b1ae-3e1135c7a889"
      },
      "outputs": [
        {
          "data": {
            "text/html": [
              "<div>\n",
              "<style scoped>\n",
              "    .dataframe tbody tr th:only-of-type {\n",
              "        vertical-align: middle;\n",
              "    }\n",
              "\n",
              "    .dataframe tbody tr th {\n",
              "        vertical-align: top;\n",
              "    }\n",
              "\n",
              "    .dataframe thead th {\n",
              "        text-align: right;\n",
              "    }\n",
              "</style>\n",
              "<table border=\"1\" class=\"dataframe\">\n",
              "  <thead>\n",
              "    <tr style=\"text-align: right;\">\n",
              "      <th></th>\n",
              "      <th>Order ID</th>\n",
              "      <th>Product</th>\n",
              "      <th>Quantity Ordered</th>\n",
              "      <th>Price Each</th>\n",
              "      <th>Purchase Address</th>\n",
              "      <th>Day</th>\n",
              "      <th>month</th>\n",
              "      <th>year</th>\n",
              "      <th>hour</th>\n",
              "      <th>minute</th>\n",
              "      <th>city</th>\n",
              "      <th>Total amount</th>\n",
              "    </tr>\n",
              "  </thead>\n",
              "  <tbody>\n",
              "    <tr>\n",
              "      <th>0</th>\n",
              "      <td>141234.0</td>\n",
              "      <td>iPhone</td>\n",
              "      <td>1.0</td>\n",
              "      <td>700.00</td>\n",
              "      <td>944 Walnut St, Boston, MA 02215</td>\n",
              "      <td>22.0</td>\n",
              "      <td>1.0</td>\n",
              "      <td>2019.0</td>\n",
              "      <td>21.0</td>\n",
              "      <td>25.0</td>\n",
              "      <td>Boston</td>\n",
              "      <td>700.00</td>\n",
              "    </tr>\n",
              "    <tr>\n",
              "      <th>3</th>\n",
              "      <td>141237.0</td>\n",
              "      <td>27in FHD Monitor</td>\n",
              "      <td>1.0</td>\n",
              "      <td>149.99</td>\n",
              "      <td>738 10th St, Los Angeles, CA 90001</td>\n",
              "      <td>5.0</td>\n",
              "      <td>1.0</td>\n",
              "      <td>2019.0</td>\n",
              "      <td>20.0</td>\n",
              "      <td>33.0</td>\n",
              "      <td>Los Angeles</td>\n",
              "      <td>149.99</td>\n",
              "    </tr>\n",
              "    <tr>\n",
              "      <th>5</th>\n",
              "      <td>141239.0</td>\n",
              "      <td>AAA Batteries (4-pack)</td>\n",
              "      <td>1.0</td>\n",
              "      <td>2.99</td>\n",
              "      <td>775 Willow St, San Francisco, CA 94016</td>\n",
              "      <td>29.0</td>\n",
              "      <td>1.0</td>\n",
              "      <td>2019.0</td>\n",
              "      <td>20.0</td>\n",
              "      <td>22.0</td>\n",
              "      <td>San Francisco</td>\n",
              "      <td>2.99</td>\n",
              "    </tr>\n",
              "    <tr>\n",
              "      <th>9</th>\n",
              "      <td>141243.0</td>\n",
              "      <td>Apple Airpods Headphones</td>\n",
              "      <td>1.0</td>\n",
              "      <td>150.00</td>\n",
              "      <td>657 Johnson St, San Francisco, CA 94016</td>\n",
              "      <td>22.0</td>\n",
              "      <td>1.0</td>\n",
              "      <td>2019.0</td>\n",
              "      <td>21.0</td>\n",
              "      <td>20.0</td>\n",
              "      <td>San Francisco</td>\n",
              "      <td>150.00</td>\n",
              "    </tr>\n",
              "    <tr>\n",
              "      <th>13</th>\n",
              "      <td>141247.0</td>\n",
              "      <td>27in FHD Monitor</td>\n",
              "      <td>1.0</td>\n",
              "      <td>149.99</td>\n",
              "      <td>512 Wilson St, San Francisco, CA 94016</td>\n",
              "      <td>25.0</td>\n",
              "      <td>1.0</td>\n",
              "      <td>2019.0</td>\n",
              "      <td>19.0</td>\n",
              "      <td>19.0</td>\n",
              "      <td>San Francisco</td>\n",
              "      <td>149.99</td>\n",
              "    </tr>\n",
              "  </tbody>\n",
              "</table>\n",
              "</div>"
            ],
            "text/plain": [
              "    Order ID                   Product  Quantity Ordered  Price Each  \\\n",
              "0   141234.0                    iPhone               1.0      700.00   \n",
              "3   141237.0          27in FHD Monitor               1.0      149.99   \n",
              "5   141239.0    AAA Batteries (4-pack)               1.0        2.99   \n",
              "9   141243.0  Apple Airpods Headphones               1.0      150.00   \n",
              "13  141247.0          27in FHD Monitor               1.0      149.99   \n",
              "\n",
              "                           Purchase Address   Day  month    year  hour  \\\n",
              "0           944 Walnut St, Boston, MA 02215  22.0    1.0  2019.0  21.0   \n",
              "3        738 10th St, Los Angeles, CA 90001   5.0    1.0  2019.0  20.0   \n",
              "5    775 Willow St, San Francisco, CA 94016  29.0    1.0  2019.0  20.0   \n",
              "9   657 Johnson St, San Francisco, CA 94016  22.0    1.0  2019.0  21.0   \n",
              "13   512 Wilson St, San Francisco, CA 94016  25.0    1.0  2019.0  19.0   \n",
              "\n",
              "    minute            city  Total amount  \n",
              "0     25.0          Boston        700.00  \n",
              "3     33.0     Los Angeles        149.99  \n",
              "5     22.0   San Francisco          2.99  \n",
              "9     20.0   San Francisco        150.00  \n",
              "13    19.0   San Francisco        149.99  "
            ]
          },
          "execution_count": 69,
          "metadata": {},
          "output_type": "execute_result"
        }
      ],
      "source": [
        "evening = df[(df['hour'] > 18.0) & (df['hour'] < 24.0)]\n",
        "evening.head()"
      ]
    },
    {
      "cell_type": "code",
      "execution_count": null,
      "id": "b03069ef",
      "metadata": {
        "id": "b03069ef",
        "outputId": "26c8b59c-9b03-4787-dd33-525d81514d5a"
      },
      "outputs": [
        {
          "data": {
            "text/plain": [
              "Product\n",
              "20in Monitor                   219.98\n",
              "27in 4K Gaming Monitor         779.98\n",
              "27in FHD Monitor               299.98\n",
              "34in Ultrawide Monitor         759.98\n",
              "AA Batteries (4-pack)           26.88\n",
              "AAA Batteries (4-pack)          26.91\n",
              "Apple Airpods Headphones       450.00\n",
              "Bose SoundSport Headphones     299.97\n",
              "Flatscreen TV                  600.00\n",
              "Google Phone                  1200.00\n",
              "LG Dryer                       600.00\n",
              "LG Washing Machine             600.00\n",
              "Lightning Charging Cable        59.80\n",
              "Macbook Pro Laptop            3400.00\n",
              "ThinkPad Laptop                999.99\n",
              "USB-C Charging Cable            71.70\n",
              "Vareebadd Phone                800.00\n",
              "Wired Headphones                47.96\n",
              "iPhone                        1400.00\n",
              "Name: Total amount, dtype: float64"
            ]
          },
          "execution_count": 74,
          "metadata": {},
          "output_type": "execute_result"
        }
      ],
      "source": [
        "evening_sale = evening.groupby('Product')['Total amount'].max()\n",
        "evening_sale"
      ]
    },
    {
      "cell_type": "code",
      "execution_count": null,
      "id": "6ee9a05c",
      "metadata": {
        "id": "6ee9a05c",
        "outputId": "c536fc59-8874-40d5-dbbf-d664bf12161a"
      },
      "outputs": [
        {
          "data": {
            "text/plain": [
              "(array([ 0,  1,  2,  3,  4,  5,  6,  7,  8,  9, 10, 11, 12, 13, 14, 15, 16,\n",
              "        17, 18]),\n",
              " [Text(0, 0, '20in Monitor'),\n",
              "  Text(1, 0, '27in 4K Gaming Monitor'),\n",
              "  Text(2, 0, '27in FHD Monitor'),\n",
              "  Text(3, 0, '34in Ultrawide Monitor'),\n",
              "  Text(4, 0, 'AA Batteries (4-pack)'),\n",
              "  Text(5, 0, 'AAA Batteries (4-pack)'),\n",
              "  Text(6, 0, 'Apple Airpods Headphones'),\n",
              "  Text(7, 0, 'Bose SoundSport Headphones'),\n",
              "  Text(8, 0, 'Flatscreen TV'),\n",
              "  Text(9, 0, 'Google Phone'),\n",
              "  Text(10, 0, 'LG Dryer'),\n",
              "  Text(11, 0, 'LG Washing Machine'),\n",
              "  Text(12, 0, 'Lightning Charging Cable'),\n",
              "  Text(13, 0, 'Macbook Pro Laptop'),\n",
              "  Text(14, 0, 'ThinkPad Laptop'),\n",
              "  Text(15, 0, 'USB-C Charging Cable'),\n",
              "  Text(16, 0, 'Vareebadd Phone'),\n",
              "  Text(17, 0, 'Wired Headphones'),\n",
              "  Text(18, 0, 'iPhone')])"
            ]
          },
          "execution_count": 75,
          "metadata": {},
          "output_type": "execute_result"
        },
        {
          "data": {
            "image/png": "[encoded data removed]",
            "text/plain": [
              "<Figure size 1152x864 with 1 Axes>"
            ]
          },
          "metadata": {
            "needs_background": "light"
          },
          "output_type": "display_data"
        }
      ],
      "source": [
        "#visulation\n",
        "evening_sale.plot(kind = 'bar', figsize = (16,12), color = ['salmon','green'])\n",
        "plt.ylabel('Total ammount')\n",
        "plt.xlabel('Product')\n",
        "plt.xticks(rotation = 45)"
      ]
    },
    {
      "cell_type": "code",
      "execution_count": null,
      "id": "98477ba8",
      "metadata": {
        "id": "98477ba8",
        "outputId": "e7569ace-ab23-4802-84ff-6c81b17ff054"
      },
      "outputs": [
        {
          "data": {
            "text/html": [
              "<div>\n",
              "<style scoped>\n",
              "    .dataframe tbody tr th:only-of-type {\n",
              "        vertical-align: middle;\n",
              "    }\n",
              "\n",
              "    .dataframe tbody tr th {\n",
              "        vertical-align: top;\n",
              "    }\n",
              "\n",
              "    .dataframe thead th {\n",
              "        text-align: right;\n",
              "    }\n",
              "</style>\n",
              "<table border=\"1\" class=\"dataframe\">\n",
              "  <thead>\n",
              "    <tr style=\"text-align: right;\">\n",
              "      <th></th>\n",
              "      <th>Order ID</th>\n",
              "      <th>Product</th>\n",
              "      <th>Quantity Ordered</th>\n",
              "      <th>Price Each</th>\n",
              "      <th>Purchase Address</th>\n",
              "      <th>Day</th>\n",
              "      <th>month</th>\n",
              "      <th>year</th>\n",
              "      <th>hour</th>\n",
              "      <th>minute</th>\n",
              "      <th>city</th>\n",
              "      <th>Total amount</th>\n",
              "    </tr>\n",
              "  </thead>\n",
              "  <tbody>\n",
              "    <tr>\n",
              "      <th>83</th>\n",
              "      <td>141315.0</td>\n",
              "      <td>USB-C Charging Cable</td>\n",
              "      <td>1.0</td>\n",
              "      <td>11.95</td>\n",
              "      <td>842 8th St, Seattle, WA 98101</td>\n",
              "      <td>10.0</td>\n",
              "      <td>1.0</td>\n",
              "      <td>2019.0</td>\n",
              "      <td>1.0</td>\n",
              "      <td>32.0</td>\n",
              "      <td>Seattle</td>\n",
              "      <td>11.95</td>\n",
              "    </tr>\n",
              "    <tr>\n",
              "      <th>95</th>\n",
              "      <td>141327.0</td>\n",
              "      <td>USB-C Charging Cable</td>\n",
              "      <td>1.0</td>\n",
              "      <td>11.95</td>\n",
              "      <td>238 Washington St, Los Angeles, CA 90001</td>\n",
              "      <td>31.0</td>\n",
              "      <td>1.0</td>\n",
              "      <td>2019.0</td>\n",
              "      <td>1.0</td>\n",
              "      <td>38.0</td>\n",
              "      <td>Los Angeles</td>\n",
              "      <td>11.95</td>\n",
              "    </tr>\n",
              "    <tr>\n",
              "      <th>102</th>\n",
              "      <td>141334.0</td>\n",
              "      <td>USB-C Charging Cable</td>\n",
              "      <td>1.0</td>\n",
              "      <td>11.95</td>\n",
              "      <td>459 4th St, San Francisco, CA 94016</td>\n",
              "      <td>15.0</td>\n",
              "      <td>1.0</td>\n",
              "      <td>2019.0</td>\n",
              "      <td>2.0</td>\n",
              "      <td>5.0</td>\n",
              "      <td>San Francisco</td>\n",
              "      <td>11.95</td>\n",
              "    </tr>\n",
              "    <tr>\n",
              "      <th>125</th>\n",
              "      <td>141357.0</td>\n",
              "      <td>Lightning Charging Cable</td>\n",
              "      <td>1.0</td>\n",
              "      <td>14.95</td>\n",
              "      <td>850 River St, Atlanta, GA 30301</td>\n",
              "      <td>23.0</td>\n",
              "      <td>1.0</td>\n",
              "      <td>2019.0</td>\n",
              "      <td>5.0</td>\n",
              "      <td>30.0</td>\n",
              "      <td>Atlanta</td>\n",
              "      <td>14.95</td>\n",
              "    </tr>\n",
              "    <tr>\n",
              "      <th>181</th>\n",
              "      <td>141411.0</td>\n",
              "      <td>Wired Headphones</td>\n",
              "      <td>1.0</td>\n",
              "      <td>11.99</td>\n",
              "      <td>350 Main St, New York City, NY 10001</td>\n",
              "      <td>15.0</td>\n",
              "      <td>1.0</td>\n",
              "      <td>2019.0</td>\n",
              "      <td>5.0</td>\n",
              "      <td>35.0</td>\n",
              "      <td>New York City</td>\n",
              "      <td>11.99</td>\n",
              "    </tr>\n",
              "  </tbody>\n",
              "</table>\n",
              "</div>"
            ],
            "text/plain": [
              "     Order ID                   Product  Quantity Ordered  Price Each  \\\n",
              "83   141315.0      USB-C Charging Cable               1.0       11.95   \n",
              "95   141327.0      USB-C Charging Cable               1.0       11.95   \n",
              "102  141334.0      USB-C Charging Cable               1.0       11.95   \n",
              "125  141357.0  Lightning Charging Cable               1.0       14.95   \n",
              "181  141411.0          Wired Headphones               1.0       11.99   \n",
              "\n",
              "                             Purchase Address   Day  month    year  hour  \\\n",
              "83              842 8th St, Seattle, WA 98101  10.0    1.0  2019.0   1.0   \n",
              "95   238 Washington St, Los Angeles, CA 90001  31.0    1.0  2019.0   1.0   \n",
              "102       459 4th St, San Francisco, CA 94016  15.0    1.0  2019.0   2.0   \n",
              "125           850 River St, Atlanta, GA 30301  23.0    1.0  2019.0   5.0   \n",
              "181      350 Main St, New York City, NY 10001  15.0    1.0  2019.0   5.0   \n",
              "\n",
              "     minute            city  Total amount  \n",
              "83     32.0         Seattle         11.95  \n",
              "95     38.0     Los Angeles         11.95  \n",
              "102     5.0   San Francisco         11.95  \n",
              "125    30.0         Atlanta         14.95  \n",
              "181    35.0   New York City         11.99  "
            ]
          },
          "execution_count": 72,
          "metadata": {},
          "output_type": "execute_result"
        }
      ],
      "source": [
        "night = df[(df['hour'] > 0.0) & (df['hour'] < 6.0)]\n",
        "night.head()"
      ]
    },
    {
      "cell_type": "code",
      "execution_count": null,
      "id": "39a1f413",
      "metadata": {
        "id": "39a1f413",
        "outputId": "11afa244-0fae-4dd4-f274-ecf041bd7d4a"
      },
      "outputs": [
        {
          "data": {
            "text/plain": [
              "Product\n",
              "20in Monitor                   219.98\n",
              "27in 4K Gaming Monitor         779.98\n",
              "27in FHD Monitor               299.98\n",
              "34in Ultrawide Monitor         379.99\n",
              "AA Batteries (4-pack)           19.20\n",
              "AAA Batteries (4-pack)          20.93\n",
              "Apple Airpods Headphones       300.00\n",
              "Bose SoundSport Headphones     199.98\n",
              "Flatscreen TV                  300.00\n",
              "Google Phone                   600.00\n",
              "LG Dryer                       600.00\n",
              "LG Washing Machine             600.00\n",
              "Lightning Charging Cable        59.80\n",
              "Macbook Pro Laptop            1700.00\n",
              "ThinkPad Laptop                999.99\n",
              "USB-C Charging Cable            35.85\n",
              "Vareebadd Phone                400.00\n",
              "Wired Headphones                47.96\n",
              "iPhone                         700.00\n",
              "Name: Total amount, dtype: float64"
            ]
          },
          "execution_count": 76,
          "metadata": {},
          "output_type": "execute_result"
        }
      ],
      "source": [
        "night_sale = night.groupby('Product')['Total amount'].max()\n",
        "night_sale"
      ]
    },
    {
      "cell_type": "code",
      "execution_count": null,
      "id": "009cd4ea",
      "metadata": {
        "id": "009cd4ea",
        "outputId": "87b5ee9c-e758-41aa-d5c0-a0b82f2bd736"
      },
      "outputs": [
        {
          "data": {
            "text/plain": [
              "(array([ 0,  1,  2,  3,  4,  5,  6,  7,  8,  9, 10, 11, 12, 13, 14, 15, 16,\n",
              "        17, 18]),\n",
              " [Text(0, 0, '20in Monitor'),\n",
              "  Text(1, 0, '27in 4K Gaming Monitor'),\n",
              "  Text(2, 0, '27in FHD Monitor'),\n",
              "  Text(3, 0, '34in Ultrawide Monitor'),\n",
              "  Text(4, 0, 'AA Batteries (4-pack)'),\n",
              "  Text(5, 0, 'AAA Batteries (4-pack)'),\n",
              "  Text(6, 0, 'Apple Airpods Headphones'),\n",
              "  Text(7, 0, 'Bose SoundSport Headphones'),\n",
              "  Text(8, 0, 'Flatscreen TV'),\n",
              "  Text(9, 0, 'Google Phone'),\n",
              "  Text(10, 0, 'LG Dryer'),\n",
              "  Text(11, 0, 'LG Washing Machine'),\n",
              "  Text(12, 0, 'Lightning Charging Cable'),\n",
              "  Text(13, 0, 'Macbook Pro Laptop'),\n",
              "  Text(14, 0, 'ThinkPad Laptop'),\n",
              "  Text(15, 0, 'USB-C Charging Cable'),\n",
              "  Text(16, 0, 'Vareebadd Phone'),\n",
              "  Text(17, 0, 'Wired Headphones'),\n",
              "  Text(18, 0, 'iPhone')])"
            ]
          },
          "execution_count": 77,
          "metadata": {},
          "output_type": "execute_result"
        },
        {
          "data": {
            "image/png": "[encoded data removed]",
            "text/plain": [
              "<Figure size 1152x864 with 1 Axes>"
            ]
          },
          "metadata": {
            "needs_background": "light"
          },
          "output_type": "display_data"
        }
      ],
      "source": [
        "#visulation\n",
        "night_sale.plot(kind = 'bar', figsize = (16,12), color = ['red','green'])\n",
        "plt.ylabel('Total ammount')\n",
        "plt.xlabel('Product')\n",
        "plt.xticks(rotation = 45)"
      ]
    },
    {
      "cell_type": "markdown",
      "id": "05080945",
      "metadata": {
        "id": "05080945"
      },
      "source": [
        "* lightning charger is the most sold product in night also."
      ]
    },
    {
      "cell_type": "code",
      "execution_count": null,
      "id": "07d62d45",
      "metadata": {
        "id": "07d62d45",
        "outputId": "6b6551d7-24e8-445c-f7b6-c254c7a6247d"
      },
      "outputs": [
        {
          "name": "stdout",
          "output_type": "stream",
          "text": [
            "total sale in morning: 15642261.0\n",
            "total sale in afternoon: 20429150.0\n",
            "total sale in evening: 19047019.0\n"
          ]
        },
        {
          "ename": "IndexError",
          "evalue": "invalid index to scalar variable.",
          "output_type": "error",
          "traceback": [
            "\u001b[1;31m---------------------------------------------------------------------------\u001b[0m",
            "\u001b[1;31mIndexError\u001b[0m                                Traceback (most recent call last)",
            "\u001b[1;32m<ipython-input-112-69a2b2a4a690>\u001b[0m in \u001b[0;36m<module>\u001b[1;34m\u001b[0m\n\u001b[0;32m      9\u001b[0m \u001b[0mprint\u001b[0m\u001b[1;33m(\u001b[0m\u001b[1;34m'total sale in evening:'\u001b[0m\u001b[1;33m,\u001b[0m\u001b[0meve\u001b[0m\u001b[1;33m)\u001b[0m\u001b[1;33m\u001b[0m\u001b[1;33m\u001b[0m\u001b[0m\n\u001b[0;32m     10\u001b[0m \u001b[1;33m\u001b[0m\u001b[0m\n\u001b[1;32m---> 11\u001b[1;33m \u001b[0mnit\u001b[0m \u001b[1;33m=\u001b[0m \u001b[0mnight\u001b[0m\u001b[1;33m[\u001b[0m\u001b[1;34m'Total amount'\u001b[0m\u001b[1;33m]\u001b[0m\u001b[1;33m.\u001b[0m\u001b[0msum\u001b[0m\u001b[1;33m(\u001b[0m\u001b[1;33m)\u001b[0m\u001b[1;33m.\u001b[0m\u001b[0mround\u001b[0m\u001b[1;33m(\u001b[0m\u001b[1;36m0\u001b[0m\u001b[1;33m)\u001b[0m\u001b[1;33m\u001b[0m\u001b[1;33m\u001b[0m\u001b[0m\n\u001b[0m\u001b[0;32m     12\u001b[0m \u001b[0mprint\u001b[0m\u001b[1;33m(\u001b[0m\u001b[1;34m'total sale in night:  '\u001b[0m \u001b[1;33m,\u001b[0m\u001b[0mnit\u001b[0m\u001b[1;33m)\u001b[0m\u001b[1;33m\u001b[0m\u001b[1;33m\u001b[0m\u001b[0m\n",
            "\u001b[1;31mIndexError\u001b[0m: invalid index to scalar variable."
          ]
        }
      ],
      "source": [
        "# most sold time during whole day \n",
        "mor = morning['Total amount'].sum().round(0)\n",
        "print('total sale in morning:' ,mor)\n",
        "\n",
        "after = afternoon['Total amount'].sum().round(0)\n",
        "print('total sale in afternoon:',after)\n",
        "\n",
        "eve = evening['Total amount'].sum().round(0)\n",
        "print('total sale in evening:',eve)\n",
        "\n",
        "nit = night['Total amount'].sum().round(0)\n",
        "print('total sale in night:  ' ,nit)"
      ]
    },
    {
      "cell_type": "markdown",
      "id": "9fbd5db9",
      "metadata": {
        "id": "9fbd5db9"
      },
      "source": [
        "* most selling product during in afternoon"
      ]
    },
    {
      "cell_type": "code",
      "execution_count": null,
      "id": "c0bed03a",
      "metadata": {
        "id": "c0bed03a",
        "outputId": "fbff7efe-f42f-46fe-bfb8-1a44d3995aa5"
      },
      "outputs": [
        {
          "data": {
            "text/html": [
              "<div>\n",
              "<style scoped>\n",
              "    .dataframe tbody tr th:only-of-type {\n",
              "        vertical-align: middle;\n",
              "    }\n",
              "\n",
              "    .dataframe tbody tr th {\n",
              "        vertical-align: top;\n",
              "    }\n",
              "\n",
              "    .dataframe thead th {\n",
              "        text-align: right;\n",
              "    }\n",
              "</style>\n",
              "<table border=\"1\" class=\"dataframe\">\n",
              "  <thead>\n",
              "    <tr style=\"text-align: right;\">\n",
              "      <th></th>\n",
              "      <th>morning</th>\n",
              "      <th>afternoon</th>\n",
              "      <th>evening</th>\n",
              "    </tr>\n",
              "  </thead>\n",
              "  <tbody>\n",
              "    <tr>\n",
              "      <th>accuracy</th>\n",
              "      <td>15642261.0</td>\n",
              "      <td>20429150.0</td>\n",
              "      <td>19047019.0</td>\n",
              "    </tr>\n",
              "  </tbody>\n",
              "</table>\n",
              "</div>"
            ],
            "text/plain": [
              "             morning   afternoon     evening\n",
              "accuracy  15642261.0  20429150.0  19047019.0"
            ]
          },
          "execution_count": 114,
          "metadata": {},
          "output_type": "execute_result"
        }
      ],
      "source": [
        "group = pd.DataFrame({'morning':mor, 'afternoon':after, 'evening':eve}, index = ['accuracy'])\n",
        "group"
      ]
    },
    {
      "cell_type": "code",
      "execution_count": null,
      "id": "0073a9d7",
      "metadata": {
        "id": "0073a9d7",
        "outputId": "b2a9cf0b-4139-47a9-b01e-c9d96a7d8e40"
      },
      "outputs": [
        {
          "data": {
            "text/plain": [
              "(array([0, 1, 2]),\n",
              " [Text(0, 0, 'morning'), Text(1, 0, 'afternoon'), Text(2, 0, 'evening')])"
            ]
          },
          "execution_count": 132,
          "metadata": {},
          "output_type": "execute_result"
        },
        {
          "data": {
            "image/png": "[encoded data removed]",
            "text/plain": [
              "<Figure size 720x576 with 1 Axes>"
            ]
          },
          "metadata": {
            "needs_background": "light"
          },
          "output_type": "display_data"
        }
      ],
      "source": [
        "#visulation\n",
        "group.T.plot(kind = 'bar', figsize = (10,8), color = ['black'])\n",
        "plt.ylabel('Total ammount')\n",
        "plt.legend(['Time'])\n",
        "plt.xticks(rotation = 45)"
      ]
    },
    {
      "cell_type": "markdown",
      "id": "6dc54bea",
      "metadata": {
        "id": "6dc54bea"
      },
      "source": [
        "* most selling product during in afternoon"
      ]
    },
    {
      "cell_type": "markdown",
      "id": "2e8630ed",
      "metadata": {
        "id": "2e8630ed"
      },
      "source": [
        "# 6:- Find out the pair of products that are most sold together"
      ]
    },
    {
      "cell_type": "code",
      "execution_count": null,
      "id": "a44e19f2",
      "metadata": {
        "id": "a44e19f2",
        "outputId": "c7bdfabe-62e8-4aa6-f678-312a95ab27d7"
      },
      "outputs": [
        {
          "data": {
            "text/plain": [
              "373700"
            ]
          },
          "execution_count": 128,
          "metadata": {},
          "output_type": "execute_result"
        }
      ],
      "source": [
        "len(df['Order ID'])"
      ]
    },
    {
      "cell_type": "code",
      "execution_count": null,
      "id": "907aa4c8",
      "metadata": {
        "id": "907aa4c8"
      },
      "outputs": [],
      "source": [
        "d1 = df.drop_duplicates(keep= 'first')"
      ]
    },
    {
      "cell_type": "code",
      "execution_count": null,
      "id": "537d0275",
      "metadata": {
        "id": "537d0275",
        "outputId": "f160b77f-75e7-45a1-f807-4f4595c4561f"
      },
      "outputs": [
        {
          "data": {
            "text/plain": [
              "185688"
            ]
          },
          "execution_count": 135,
          "metadata": {},
          "output_type": "execute_result"
        }
      ],
      "source": [
        "len(df1['Order ID'])"
      ]
    },
    {
      "cell_type": "code",
      "execution_count": null,
      "id": "9c20526f",
      "metadata": {
        "id": "9c20526f",
        "outputId": "5b1118ec-d4dc-4bed-c6b2-605f5c365310"
      },
      "outputs": [
        {
          "ename": "AttributeError",
          "evalue": "'Series' object has no attribute 'duplicates'",
          "output_type": "error",
          "traceback": [
            "\u001b[1;31m---------------------------------------------------------------------------\u001b[0m",
            "\u001b[1;31mAttributeError\u001b[0m                            Traceback (most recent call last)",
            "\u001b[1;32m<ipython-input-136-d9f4b8edd88d>\u001b[0m in \u001b[0;36m<module>\u001b[1;34m\u001b[0m\n\u001b[1;32m----> 1\u001b[1;33m \u001b[0mdf2\u001b[0m \u001b[1;33m=\u001b[0m \u001b[0mdf1\u001b[0m\u001b[1;33m[\u001b[0m\u001b[0mdf1\u001b[0m\u001b[1;33m[\u001b[0m\u001b[1;34m'Order ID'\u001b[0m\u001b[1;33m]\u001b[0m\u001b[1;33m.\u001b[0m\u001b[0mduplicates\u001b[0m\u001b[1;33m(\u001b[0m\u001b[0mkeep\u001b[0m \u001b[1;33m=\u001b[0m \u001b[1;32mFalse\u001b[0m\u001b[1;33m)\u001b[0m\u001b[1;33m]\u001b[0m\u001b[1;33m\u001b[0m\u001b[1;33m\u001b[0m\u001b[0m\n\u001b[0m",
            "\u001b[1;32m~\\anaconda3\\lib\\site-packages\\pandas\\core\\generic.py\u001b[0m in \u001b[0;36m__getattr__\u001b[1;34m(self, name)\u001b[0m\n\u001b[0;32m   5463\u001b[0m             \u001b[1;32mif\u001b[0m \u001b[0mself\u001b[0m\u001b[1;33m.\u001b[0m\u001b[0m_info_axis\u001b[0m\u001b[1;33m.\u001b[0m\u001b[0m_can_hold_identifiers_and_holds_name\u001b[0m\u001b[1;33m(\u001b[0m\u001b[0mname\u001b[0m\u001b[1;33m)\u001b[0m\u001b[1;33m:\u001b[0m\u001b[1;33m\u001b[0m\u001b[1;33m\u001b[0m\u001b[0m\n\u001b[0;32m   5464\u001b[0m                 \u001b[1;32mreturn\u001b[0m \u001b[0mself\u001b[0m\u001b[1;33m[\u001b[0m\u001b[0mname\u001b[0m\u001b[1;33m]\u001b[0m\u001b[1;33m\u001b[0m\u001b[1;33m\u001b[0m\u001b[0m\n\u001b[1;32m-> 5465\u001b[1;33m             \u001b[1;32mreturn\u001b[0m \u001b[0mobject\u001b[0m\u001b[1;33m.\u001b[0m\u001b[0m__getattribute__\u001b[0m\u001b[1;33m(\u001b[0m\u001b[0mself\u001b[0m\u001b[1;33m,\u001b[0m \u001b[0mname\u001b[0m\u001b[1;33m)\u001b[0m\u001b[1;33m\u001b[0m\u001b[1;33m\u001b[0m\u001b[0m\n\u001b[0m\u001b[0;32m   5466\u001b[0m \u001b[1;33m\u001b[0m\u001b[0m\n\u001b[0;32m   5467\u001b[0m     \u001b[1;32mdef\u001b[0m \u001b[0m__setattr__\u001b[0m\u001b[1;33m(\u001b[0m\u001b[0mself\u001b[0m\u001b[1;33m,\u001b[0m \u001b[0mname\u001b[0m\u001b[1;33m:\u001b[0m \u001b[0mstr\u001b[0m\u001b[1;33m,\u001b[0m \u001b[0mvalue\u001b[0m\u001b[1;33m)\u001b[0m \u001b[1;33m->\u001b[0m \u001b[1;32mNone\u001b[0m\u001b[1;33m:\u001b[0m\u001b[1;33m\u001b[0m\u001b[1;33m\u001b[0m\u001b[0m\n",
            "\u001b[1;31mAttributeError\u001b[0m: 'Series' object has no attribute 'duplicates'"
          ]
        }
      ],
      "source": [
        "df2 = df1[df1['Order ID'].duplicates(keep = False)]"
      ]
    },
    {
      "cell_type": "code",
      "execution_count": null,
      "id": "df8c1eda",
      "metadata": {
        "id": "df8c1eda",
        "outputId": "6bfb983b-3548-4fc8-ba71-8c65c07e310e"
      },
      "outputs": [
        {
          "ename": "ValueError",
          "evalue": "Length mismatch: Expected axis has 371900 elements, new values have 373700 elements",
          "output_type": "error",
          "traceback": [
            "\u001b[1;31m---------------------------------------------------------------------------\u001b[0m",
            "\u001b[1;31mValueError\u001b[0m                                Traceback (most recent call last)",
            "\u001b[1;32m<ipython-input-137-86c3a5261081>\u001b[0m in \u001b[0;36m<module>\u001b[1;34m\u001b[0m\n\u001b[1;32m----> 1\u001b[1;33m \u001b[0mdf1\u001b[0m\u001b[1;33m[\u001b[0m\u001b[1;34m'Pair together'\u001b[0m\u001b[1;33m]\u001b[0m \u001b[1;33m=\u001b[0m \u001b[0mdf\u001b[0m\u001b[1;33m.\u001b[0m\u001b[0mgroupby\u001b[0m\u001b[1;33m(\u001b[0m\u001b[1;34m'Order ID'\u001b[0m\u001b[1;33m)\u001b[0m\u001b[1;33m[\u001b[0m\u001b[1;34m'Product'\u001b[0m\u001b[1;33m]\u001b[0m\u001b[1;33m.\u001b[0m\u001b[0mtransform\u001b[0m\u001b[1;33m(\u001b[0m\u001b[1;32mlambda\u001b[0m \u001b[0mx\u001b[0m\u001b[1;33m:\u001b[0m\u001b[1;34m','\u001b[0m\u001b[1;33m.\u001b[0m\u001b[0mjoin\u001b[0m \u001b[1;33m(\u001b[0m\u001b[0mx\u001b[0m\u001b[1;33m)\u001b[0m\u001b[1;33m)\u001b[0m\u001b[1;33m\u001b[0m\u001b[1;33m\u001b[0m\u001b[0m\n\u001b[0m\u001b[0;32m      2\u001b[0m \u001b[0mdf\u001b[0m\u001b[1;33m.\u001b[0m\u001b[0mhead\u001b[0m\u001b[1;33m(\u001b[0m\u001b[1;33m)\u001b[0m\u001b[1;33m\u001b[0m\u001b[1;33m\u001b[0m\u001b[0m\n",
            "\u001b[1;32m~\\anaconda3\\lib\\site-packages\\pandas\\core\\groupby\\generic.py\u001b[0m in \u001b[0;36mtransform\u001b[1;34m(self, func, engine, engine_kwargs, *args, **kwargs)\u001b[0m\n\u001b[0;32m    505\u001b[0m \u001b[1;33m\u001b[0m\u001b[0m\n\u001b[0;32m    506\u001b[0m         \u001b[1;32mif\u001b[0m \u001b[1;32mnot\u001b[0m \u001b[0misinstance\u001b[0m\u001b[1;33m(\u001b[0m\u001b[0mfunc\u001b[0m\u001b[1;33m,\u001b[0m \u001b[0mstr\u001b[0m\u001b[1;33m)\u001b[0m\u001b[1;33m:\u001b[0m\u001b[1;33m\u001b[0m\u001b[1;33m\u001b[0m\u001b[0m\n\u001b[1;32m--> 507\u001b[1;33m             \u001b[1;32mreturn\u001b[0m \u001b[0mself\u001b[0m\u001b[1;33m.\u001b[0m\u001b[0m_transform_general\u001b[0m\u001b[1;33m(\u001b[0m\u001b[0mfunc\u001b[0m\u001b[1;33m,\u001b[0m \u001b[1;33m*\u001b[0m\u001b[0margs\u001b[0m\u001b[1;33m,\u001b[0m \u001b[1;33m**\u001b[0m\u001b[0mkwargs\u001b[0m\u001b[1;33m)\u001b[0m\u001b[1;33m\u001b[0m\u001b[1;33m\u001b[0m\u001b[0m\n\u001b[0m\u001b[0;32m    508\u001b[0m \u001b[1;33m\u001b[0m\u001b[0m\n\u001b[0;32m    509\u001b[0m         \u001b[1;32melif\u001b[0m \u001b[0mfunc\u001b[0m \u001b[1;32mnot\u001b[0m \u001b[1;32min\u001b[0m \u001b[0mbase\u001b[0m\u001b[1;33m.\u001b[0m\u001b[0mtransform_kernel_allowlist\u001b[0m\u001b[1;33m:\u001b[0m\u001b[1;33m\u001b[0m\u001b[1;33m\u001b[0m\u001b[0m\n",
            "\u001b[1;32m~\\anaconda3\\lib\\site-packages\\pandas\\core\\groupby\\generic.py\u001b[0m in \u001b[0;36m_transform_general\u001b[1;34m(self, func, *args, **kwargs)\u001b[0m\n\u001b[0;32m    542\u001b[0m \u001b[1;33m\u001b[0m\u001b[0m\n\u001b[0;32m    543\u001b[0m             \u001b[0mconcatenated\u001b[0m \u001b[1;33m=\u001b[0m \u001b[0mconcat\u001b[0m\u001b[1;33m(\u001b[0m\u001b[0mresults\u001b[0m\u001b[1;33m)\u001b[0m\u001b[1;33m\u001b[0m\u001b[1;33m\u001b[0m\u001b[0m\n\u001b[1;32m--> 544\u001b[1;33m             \u001b[0mresult\u001b[0m \u001b[1;33m=\u001b[0m \u001b[0mself\u001b[0m\u001b[1;33m.\u001b[0m\u001b[0m_set_result_index_ordered\u001b[0m\u001b[1;33m(\u001b[0m\u001b[0mconcatenated\u001b[0m\u001b[1;33m)\u001b[0m\u001b[1;33m\u001b[0m\u001b[1;33m\u001b[0m\u001b[0m\n\u001b[0m\u001b[0;32m    545\u001b[0m         \u001b[1;32melse\u001b[0m\u001b[1;33m:\u001b[0m\u001b[1;33m\u001b[0m\u001b[1;33m\u001b[0m\u001b[0m\n\u001b[0;32m    546\u001b[0m             \u001b[0mresult\u001b[0m \u001b[1;33m=\u001b[0m \u001b[0mself\u001b[0m\u001b[1;33m.\u001b[0m\u001b[0mobj\u001b[0m\u001b[1;33m.\u001b[0m\u001b[0m_constructor\u001b[0m\u001b[1;33m(\u001b[0m\u001b[0mdtype\u001b[0m\u001b[1;33m=\u001b[0m\u001b[0mnp\u001b[0m\u001b[1;33m.\u001b[0m\u001b[0mfloat64\u001b[0m\u001b[1;33m)\u001b[0m\u001b[1;33m\u001b[0m\u001b[1;33m\u001b[0m\u001b[0m\n",
            "\u001b[1;32m~\\anaconda3\\lib\\site-packages\\pandas\\core\\groupby\\groupby.py\u001b[0m in \u001b[0;36m_set_result_index_ordered\u001b[1;34m(self, result)\u001b[0m\n\u001b[0;32m    737\u001b[0m             \u001b[0mresult\u001b[0m \u001b[1;33m=\u001b[0m \u001b[0mresult\u001b[0m\u001b[1;33m.\u001b[0m\u001b[0msort_index\u001b[0m\u001b[1;33m(\u001b[0m\u001b[0maxis\u001b[0m\u001b[1;33m=\u001b[0m\u001b[0mself\u001b[0m\u001b[1;33m.\u001b[0m\u001b[0maxis\u001b[0m\u001b[1;33m)\u001b[0m\u001b[1;33m\u001b[0m\u001b[1;33m\u001b[0m\u001b[0m\n\u001b[0;32m    738\u001b[0m \u001b[1;33m\u001b[0m\u001b[0m\n\u001b[1;32m--> 739\u001b[1;33m         \u001b[0mresult\u001b[0m\u001b[1;33m.\u001b[0m\u001b[0mset_axis\u001b[0m\u001b[1;33m(\u001b[0m\u001b[0mself\u001b[0m\u001b[1;33m.\u001b[0m\u001b[0mobj\u001b[0m\u001b[1;33m.\u001b[0m\u001b[0m_get_axis\u001b[0m\u001b[1;33m(\u001b[0m\u001b[0mself\u001b[0m\u001b[1;33m.\u001b[0m\u001b[0maxis\u001b[0m\u001b[1;33m)\u001b[0m\u001b[1;33m,\u001b[0m \u001b[0maxis\u001b[0m\u001b[1;33m=\u001b[0m\u001b[0mself\u001b[0m\u001b[1;33m.\u001b[0m\u001b[0maxis\u001b[0m\u001b[1;33m,\u001b[0m \u001b[0minplace\u001b[0m\u001b[1;33m=\u001b[0m\u001b[1;32mTrue\u001b[0m\u001b[1;33m)\u001b[0m\u001b[1;33m\u001b[0m\u001b[1;33m\u001b[0m\u001b[0m\n\u001b[0m\u001b[0;32m    740\u001b[0m         \u001b[1;32mreturn\u001b[0m \u001b[0mresult\u001b[0m\u001b[1;33m\u001b[0m\u001b[1;33m\u001b[0m\u001b[0m\n\u001b[0;32m    741\u001b[0m \u001b[1;33m\u001b[0m\u001b[0m\n",
            "\u001b[1;32m~\\anaconda3\\lib\\site-packages\\pandas\\core\\series.py\u001b[0m in \u001b[0;36mset_axis\u001b[1;34m(self, labels, axis, inplace)\u001b[0m\n\u001b[0;32m   4333\u001b[0m     \u001b[1;33m@\u001b[0m\u001b[0mAppender\u001b[0m\u001b[1;33m(\u001b[0m\u001b[0mgeneric\u001b[0m\u001b[1;33m.\u001b[0m\u001b[0mNDFrame\u001b[0m\u001b[1;33m.\u001b[0m\u001b[0mset_axis\u001b[0m\u001b[1;33m.\u001b[0m\u001b[0m__doc__\u001b[0m\u001b[1;33m)\u001b[0m\u001b[1;33m\u001b[0m\u001b[1;33m\u001b[0m\u001b[0m\n\u001b[0;32m   4334\u001b[0m     \u001b[1;32mdef\u001b[0m \u001b[0mset_axis\u001b[0m\u001b[1;33m(\u001b[0m\u001b[0mself\u001b[0m\u001b[1;33m,\u001b[0m \u001b[0mlabels\u001b[0m\u001b[1;33m,\u001b[0m \u001b[0maxis\u001b[0m\u001b[1;33m:\u001b[0m \u001b[0mAxis\u001b[0m \u001b[1;33m=\u001b[0m \u001b[1;36m0\u001b[0m\u001b[1;33m,\u001b[0m \u001b[0minplace\u001b[0m\u001b[1;33m:\u001b[0m \u001b[0mbool\u001b[0m \u001b[1;33m=\u001b[0m \u001b[1;32mFalse\u001b[0m\u001b[1;33m)\u001b[0m\u001b[1;33m:\u001b[0m\u001b[1;33m\u001b[0m\u001b[1;33m\u001b[0m\u001b[0m\n\u001b[1;32m-> 4335\u001b[1;33m         \u001b[1;32mreturn\u001b[0m \u001b[0msuper\u001b[0m\u001b[1;33m(\u001b[0m\u001b[1;33m)\u001b[0m\u001b[1;33m.\u001b[0m\u001b[0mset_axis\u001b[0m\u001b[1;33m(\u001b[0m\u001b[0mlabels\u001b[0m\u001b[1;33m,\u001b[0m \u001b[0maxis\u001b[0m\u001b[1;33m=\u001b[0m\u001b[0maxis\u001b[0m\u001b[1;33m,\u001b[0m \u001b[0minplace\u001b[0m\u001b[1;33m=\u001b[0m\u001b[0minplace\u001b[0m\u001b[1;33m)\u001b[0m\u001b[1;33m\u001b[0m\u001b[1;33m\u001b[0m\u001b[0m\n\u001b[0m\u001b[0;32m   4336\u001b[0m \u001b[1;33m\u001b[0m\u001b[0m\n\u001b[0;32m   4337\u001b[0m     @doc(\n",
            "\u001b[1;32m~\\anaconda3\\lib\\site-packages\\pandas\\core\\generic.py\u001b[0m in \u001b[0;36mset_axis\u001b[1;34m(self, labels, axis, inplace)\u001b[0m\n\u001b[0;32m    654\u001b[0m         \"\"\"\n\u001b[0;32m    655\u001b[0m         \u001b[0mself\u001b[0m\u001b[1;33m.\u001b[0m\u001b[0m_check_inplace_and_allows_duplicate_labels\u001b[0m\u001b[1;33m(\u001b[0m\u001b[0minplace\u001b[0m\u001b[1;33m)\u001b[0m\u001b[1;33m\u001b[0m\u001b[1;33m\u001b[0m\u001b[0m\n\u001b[1;32m--> 656\u001b[1;33m         \u001b[1;32mreturn\u001b[0m \u001b[0mself\u001b[0m\u001b[1;33m.\u001b[0m\u001b[0m_set_axis_nocheck\u001b[0m\u001b[1;33m(\u001b[0m\u001b[0mlabels\u001b[0m\u001b[1;33m,\u001b[0m \u001b[0maxis\u001b[0m\u001b[1;33m,\u001b[0m \u001b[0minplace\u001b[0m\u001b[1;33m)\u001b[0m\u001b[1;33m\u001b[0m\u001b[1;33m\u001b[0m\u001b[0m\n\u001b[0m\u001b[0;32m    657\u001b[0m \u001b[1;33m\u001b[0m\u001b[0m\n\u001b[0;32m    658\u001b[0m     \u001b[1;33m@\u001b[0m\u001b[0mfinal\u001b[0m\u001b[1;33m\u001b[0m\u001b[1;33m\u001b[0m\u001b[0m\n",
            "\u001b[1;32m~\\anaconda3\\lib\\site-packages\\pandas\\core\\generic.py\u001b[0m in \u001b[0;36m_set_axis_nocheck\u001b[1;34m(self, labels, axis, inplace)\u001b[0m\n\u001b[0;32m    660\u001b[0m         \u001b[1;31m# NDFrame.rename with inplace=False calls set_axis(inplace=True) on a copy.\u001b[0m\u001b[1;33m\u001b[0m\u001b[1;33m\u001b[0m\u001b[1;33m\u001b[0m\u001b[0m\n\u001b[0;32m    661\u001b[0m         \u001b[1;32mif\u001b[0m \u001b[0minplace\u001b[0m\u001b[1;33m:\u001b[0m\u001b[1;33m\u001b[0m\u001b[1;33m\u001b[0m\u001b[0m\n\u001b[1;32m--> 662\u001b[1;33m             \u001b[0msetattr\u001b[0m\u001b[1;33m(\u001b[0m\u001b[0mself\u001b[0m\u001b[1;33m,\u001b[0m \u001b[0mself\u001b[0m\u001b[1;33m.\u001b[0m\u001b[0m_get_axis_name\u001b[0m\u001b[1;33m(\u001b[0m\u001b[0maxis\u001b[0m\u001b[1;33m)\u001b[0m\u001b[1;33m,\u001b[0m \u001b[0mlabels\u001b[0m\u001b[1;33m)\u001b[0m\u001b[1;33m\u001b[0m\u001b[1;33m\u001b[0m\u001b[0m\n\u001b[0m\u001b[0;32m    663\u001b[0m         \u001b[1;32melse\u001b[0m\u001b[1;33m:\u001b[0m\u001b[1;33m\u001b[0m\u001b[1;33m\u001b[0m\u001b[0m\n\u001b[0;32m    664\u001b[0m             \u001b[0mobj\u001b[0m \u001b[1;33m=\u001b[0m \u001b[0mself\u001b[0m\u001b[1;33m.\u001b[0m\u001b[0mcopy\u001b[0m\u001b[1;33m(\u001b[0m\u001b[1;33m)\u001b[0m\u001b[1;33m\u001b[0m\u001b[1;33m\u001b[0m\u001b[0m\n",
            "\u001b[1;32m~\\anaconda3\\lib\\site-packages\\pandas\\core\\generic.py\u001b[0m in \u001b[0;36m__setattr__\u001b[1;34m(self, name, value)\u001b[0m\n\u001b[0;32m   5476\u001b[0m         \u001b[1;32mtry\u001b[0m\u001b[1;33m:\u001b[0m\u001b[1;33m\u001b[0m\u001b[1;33m\u001b[0m\u001b[0m\n\u001b[0;32m   5477\u001b[0m             \u001b[0mobject\u001b[0m\u001b[1;33m.\u001b[0m\u001b[0m__getattribute__\u001b[0m\u001b[1;33m(\u001b[0m\u001b[0mself\u001b[0m\u001b[1;33m,\u001b[0m \u001b[0mname\u001b[0m\u001b[1;33m)\u001b[0m\u001b[1;33m\u001b[0m\u001b[1;33m\u001b[0m\u001b[0m\n\u001b[1;32m-> 5478\u001b[1;33m             \u001b[1;32mreturn\u001b[0m \u001b[0mobject\u001b[0m\u001b[1;33m.\u001b[0m\u001b[0m__setattr__\u001b[0m\u001b[1;33m(\u001b[0m\u001b[0mself\u001b[0m\u001b[1;33m,\u001b[0m \u001b[0mname\u001b[0m\u001b[1;33m,\u001b[0m \u001b[0mvalue\u001b[0m\u001b[1;33m)\u001b[0m\u001b[1;33m\u001b[0m\u001b[1;33m\u001b[0m\u001b[0m\n\u001b[0m\u001b[0;32m   5479\u001b[0m         \u001b[1;32mexcept\u001b[0m \u001b[0mAttributeError\u001b[0m\u001b[1;33m:\u001b[0m\u001b[1;33m\u001b[0m\u001b[1;33m\u001b[0m\u001b[0m\n\u001b[0;32m   5480\u001b[0m             \u001b[1;32mpass\u001b[0m\u001b[1;33m\u001b[0m\u001b[1;33m\u001b[0m\u001b[0m\n",
            "\u001b[1;32mpandas\\_libs\\properties.pyx\u001b[0m in \u001b[0;36mpandas._libs.properties.AxisProperty.__set__\u001b[1;34m()\u001b[0m\n",
            "\u001b[1;32m~\\anaconda3\\lib\\site-packages\\pandas\\core\\series.py\u001b[0m in \u001b[0;36m_set_axis\u001b[1;34m(self, axis, labels, fastpath)\u001b[0m\n\u001b[0;32m    468\u001b[0m         \u001b[1;32mif\u001b[0m \u001b[1;32mnot\u001b[0m \u001b[0mfastpath\u001b[0m\u001b[1;33m:\u001b[0m\u001b[1;33m\u001b[0m\u001b[1;33m\u001b[0m\u001b[0m\n\u001b[0;32m    469\u001b[0m             \u001b[1;31m# The ensure_index call above ensures we have an Index object\u001b[0m\u001b[1;33m\u001b[0m\u001b[1;33m\u001b[0m\u001b[1;33m\u001b[0m\u001b[0m\n\u001b[1;32m--> 470\u001b[1;33m             \u001b[0mself\u001b[0m\u001b[1;33m.\u001b[0m\u001b[0m_mgr\u001b[0m\u001b[1;33m.\u001b[0m\u001b[0mset_axis\u001b[0m\u001b[1;33m(\u001b[0m\u001b[0maxis\u001b[0m\u001b[1;33m,\u001b[0m \u001b[0mlabels\u001b[0m\u001b[1;33m)\u001b[0m\u001b[1;33m\u001b[0m\u001b[1;33m\u001b[0m\u001b[0m\n\u001b[0m\u001b[0;32m    471\u001b[0m \u001b[1;33m\u001b[0m\u001b[0m\n\u001b[0;32m    472\u001b[0m     \u001b[1;31m# ndarray compatibility\u001b[0m\u001b[1;33m\u001b[0m\u001b[1;33m\u001b[0m\u001b[1;33m\u001b[0m\u001b[0m\n",
            "\u001b[1;32m~\\anaconda3\\lib\\site-packages\\pandas\\core\\internals\\managers.py\u001b[0m in \u001b[0;36mset_axis\u001b[1;34m(self, axis, new_labels)\u001b[0m\n\u001b[0;32m    218\u001b[0m \u001b[1;33m\u001b[0m\u001b[0m\n\u001b[0;32m    219\u001b[0m         \u001b[1;32mif\u001b[0m \u001b[0mnew_len\u001b[0m \u001b[1;33m!=\u001b[0m \u001b[0mold_len\u001b[0m\u001b[1;33m:\u001b[0m\u001b[1;33m\u001b[0m\u001b[1;33m\u001b[0m\u001b[0m\n\u001b[1;32m--> 220\u001b[1;33m             raise ValueError(\n\u001b[0m\u001b[0;32m    221\u001b[0m                 \u001b[1;34mf\"Length mismatch: Expected axis has {old_len} elements, new \"\u001b[0m\u001b[1;33m\u001b[0m\u001b[1;33m\u001b[0m\u001b[0m\n\u001b[0;32m    222\u001b[0m                 \u001b[1;34mf\"values have {new_len} elements\"\u001b[0m\u001b[1;33m\u001b[0m\u001b[1;33m\u001b[0m\u001b[0m\n",
            "\u001b[1;31mValueError\u001b[0m: Length mismatch: Expected axis has 371900 elements, new values have 373700 elements"
          ]
        }
      ],
      "source": [
        "df1['Pair together'] = df.groupby('Order ID')['Product'].transform(lambda x:','.join (x))\n",
        "df.head()"
      ]
    },
    {
      "cell_type": "code",
      "execution_count": null,
      "id": "fd922e09",
      "metadata": {
        "id": "fd922e09"
      },
      "outputs": [],
      "source": [
        "df1"
      ]
    }
  ],
  "metadata": {
    "kernelspec": {
      "display_name": "Python 3",
      "language": "python",
      "name": "python3"
    },
    "language_info": {
      "codemirror_mode": {
        "name": "ipython",
        "version": 3
      },
      "file_extension": ".py",
      "mimetype": "text/x-python",
      "name": "python",
      "nbconvert_exporter": "python",
      "pygments_lexer": "ipython3",
      "version": "3.8.8"
    },
    "colab": {
      "provenance": [],
      "include_colab_link": true
    }
  },
  "nbformat": 4,
  "nbformat_minor": 5
}